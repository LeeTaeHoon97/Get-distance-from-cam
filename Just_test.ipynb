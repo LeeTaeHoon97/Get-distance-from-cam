{
  "nbformat": 4,
  "nbformat_minor": 0,
  "metadata": {
    "colab": {
      "name": "Just_test.ipynb",
      "private_outputs": true,
      "provenance": [],
      "include_colab_link": true
    },
    "kernelspec": {
      "name": "python3",
      "display_name": "Python 3"
    },
    "language_info": {
      "name": "python"
    }
  },
  "cells": [
    {
      "cell_type": "markdown",
      "metadata": {
        "id": "view-in-github",
        "colab_type": "text"
      },
      "source": [
        "<a href=\"https://colab.research.google.com/github/LeeTaeHoon97/Get-distance-from-cam/blob/main/Just_test.ipynb\" target=\"_parent\"><img src=\"https://colab.research.google.com/assets/colab-badge.svg\" alt=\"Open In Colab\"/></a>"
      ]
    },
    {
      "cell_type": "code",
      "execution_count": null,
      "metadata": {
        "id": "KjDTdLNBNoXV"
      },
      "outputs": [],
      "source": [
        "from numpy import float32\n",
        "import tensorflow as tf\n",
        "\n",
        "input_shape = (2, 2, 2)\n",
        "x1 = tf.constant([[[1,2],[3,4]],[[5,6],[7,8]]])\n",
        "x2 = tf.constant([[[9,10],[11,12]],[[13,14],[15,16]]])\n",
        "\n",
        "y = tf.keras.layers.Add()([x1, x2])\n",
        "\n",
        "print(x1,x2)\n",
        "\n",
        "print(\"here y\")\n",
        "print(y)"
      ]
    },
    {
      "cell_type": "code",
      "source": [
        "import torch\n",
        "import torch.nn as nn\n",
        "import torch.nn.functional as F\n",
        "\n",
        "x1=torch.Tensor([[[1,2],[3,4]],[[5,6],[7,8]]])\n",
        "x2=torch.Tensor([[[9,10],[11,12]],[[13,14],[15,16]]])\n",
        "\n",
        "y=x1.add(x2)\n",
        "\n",
        "print(x1,x2)\n",
        "\n",
        "print(\"here y\")\n",
        "print(y)"
      ],
      "metadata": {
        "id": "LKHPFOtOOQ37"
      },
      "execution_count": null,
      "outputs": []
    },
    {
      "cell_type": "code",
      "source": [
        "#kitti data format\n",
        "# 1 type Describes the type of object: 'Car', 'Van', 'Truck',\n",
        "# 'Pedestrian', 'Person_sitting', 'Cyclist', 'Tram',\n",
        "# 'Misc' or 'DontCare'\n",
        "# 1 truncated Float from 0 (non-truncated) to 1 (truncated), where\n",
        "# truncated refers to the object leaving image boundaries\n",
        "# 1 occluded Integer (0,1,2,3) indicating occlusion state:\n",
        "# 0 = fully visible, 1 = partly occluded\n",
        "# 2 = largely occluded, 3 = unknown\n",
        "# 1 alpha Observation angle of object, ranging [-pi..pi]\n",
        "# 4 bbox 2D bounding box of object in the image (0-based index):\n",
        "# contains left, top, right, bottom pixel coordinates\n",
        "# 3 dimensions 3D object dimensions: height, width, length (in meters)\n",
        "# 3 location 3D object location x,y,z in camera coordinates (in meters)\n",
        "# 1 rotation_y Rotation ry around Y-axis in camera coordinates [-pi..pi]"
      ],
      "metadata": {
        "id": "DbTCsUTJTtwu"
      },
      "execution_count": null,
      "outputs": []
    },
    {
      "cell_type": "code",
      "source": [
        "y2=torch.add(x1,x2)\n",
        "\n",
        "print(y2)"
      ],
      "metadata": {
        "id": "78XElA7ETA3W"
      },
      "execution_count": null,
      "outputs": []
    }
  ]
}