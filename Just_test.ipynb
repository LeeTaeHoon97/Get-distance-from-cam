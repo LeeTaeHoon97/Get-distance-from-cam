{
  "cells": [
    {
      "cell_type": "markdown",
      "metadata": {
        "colab_type": "text",
        "id": "view-in-github"
      },
      "source": [
        "<a href=\"https://colab.research.google.com/github/LeeTaeHoon97/Get-distance-from-cam/blob/main/Just_test.ipynb\" target=\"_parent\"><img src=\"https://colab.research.google.com/assets/colab-badge.svg\" alt=\"Open In Colab\"/></a>"
      ]
    },
    {
      "cell_type": "code",
      "execution_count": 1,
      "metadata": {
        "id": "KjDTdLNBNoXV"
      },
      "outputs": [
        {
          "ename": "ModuleNotFoundError",
          "evalue": "No module named 'tensorflow'",
          "output_type": "error",
          "traceback": [
            "\u001b[1;31m---------------------------------------------------------------------------\u001b[0m",
            "\u001b[1;31mModuleNotFoundError\u001b[0m                       Traceback (most recent call last)",
            "\u001b[1;32me:\\dev\\GitHub\\Get-distance-from-cam\\Just_test.ipynb Cell 2'\u001b[0m in \u001b[0;36m<cell line: 2>\u001b[1;34m()\u001b[0m\n\u001b[0;32m      <a href='vscode-notebook-cell:/e%3A/dev/GitHub/Get-distance-from-cam/Just_test.ipynb#ch0000001?line=0'>1</a>\u001b[0m \u001b[39mfrom\u001b[39;00m \u001b[39mnumpy\u001b[39;00m \u001b[39mimport\u001b[39;00m float32\n\u001b[1;32m----> <a href='vscode-notebook-cell:/e%3A/dev/GitHub/Get-distance-from-cam/Just_test.ipynb#ch0000001?line=1'>2</a>\u001b[0m \u001b[39mimport\u001b[39;00m \u001b[39mtensorflow\u001b[39;00m \u001b[39mas\u001b[39;00m \u001b[39mtf\u001b[39;00m\n\u001b[0;32m      <a href='vscode-notebook-cell:/e%3A/dev/GitHub/Get-distance-from-cam/Just_test.ipynb#ch0000001?line=3'>4</a>\u001b[0m input_shape \u001b[39m=\u001b[39m (\u001b[39m2\u001b[39m, \u001b[39m2\u001b[39m, \u001b[39m2\u001b[39m)\n\u001b[0;32m      <a href='vscode-notebook-cell:/e%3A/dev/GitHub/Get-distance-from-cam/Just_test.ipynb#ch0000001?line=4'>5</a>\u001b[0m x1 \u001b[39m=\u001b[39m tf\u001b[39m.\u001b[39mconstant([[[\u001b[39m1\u001b[39m,\u001b[39m2\u001b[39m],[\u001b[39m3\u001b[39m,\u001b[39m4\u001b[39m]],[[\u001b[39m5\u001b[39m,\u001b[39m6\u001b[39m],[\u001b[39m7\u001b[39m,\u001b[39m8\u001b[39m]]])\n",
            "\u001b[1;31mModuleNotFoundError\u001b[0m: No module named 'tensorflow'"
          ]
        }
      ],
      "source": [
        "from numpy import float32\n",
        "import tensorflow as tf\n",
        "\n",
        "input_shape = (2, 2, 2)\n",
        "x1 = tf.constant([[[1,2],[3,4]],[[5,6],[7,8]]])\n",
        "x2 = tf.constant([[[9,10],[11,12]],[[13,14],[15,16]]])\n",
        "\n",
        "y = tf.keras.layers.Add()([x1, x2])\n",
        "\n",
        "print(x1,x2)\n",
        "\n",
        "print(\"here y\")\n",
        "print(y)"
      ]
    },
    {
      "cell_type": "code",
      "execution_count": 2,
      "metadata": {},
      "outputs": [
        {
          "data": {
            "text/plain": [
              "True"
            ]
          },
          "execution_count": 2,
          "metadata": {},
          "output_type": "execute_result"
        }
      ],
      "source": [
        "import torch\n",
        "import torch.nn as nn\n",
        "import torch.nn.functional as F\n",
        "import numpy as np\n",
        "\n",
        "torch.cuda.is_available() "
      ]
    },
    {
      "cell_type": "code",
      "execution_count": null,
      "metadata": {},
      "outputs": [
        {
          "name": "stdout",
          "output_type": "stream",
          "text": [
            "1\n"
          ]
        }
      ],
      "source": [
        "print(torch.cuda.device_count())"
      ]
    },
    {
      "cell_type": "code",
      "execution_count": null,
      "metadata": {
        "id": "LKHPFOtOOQ37"
      },
      "outputs": [
        {
          "name": "stdout",
          "output_type": "stream",
          "text": [
            "tensor([[[1., 2.],\n",
            "         [3., 4.]],\n",
            "\n",
            "        [[5., 6.],\n",
            "         [7., 8.]]]) tensor([[[ 9., 10.],\n",
            "         [11., 12.]],\n",
            "\n",
            "        [[13., 14.],\n",
            "         [15., 16.]]])\n",
            "here y\n",
            "tensor([[[10., 12.],\n",
            "         [14., 16.]],\n",
            "\n",
            "        [[18., 20.],\n",
            "         [22., 24.]]])\n"
          ]
        }
      ],
      "source": [
        "\n",
        "x1=torch.Tensor([[[1,2],[3,4]],[[5,6],[7,8]]])\n",
        "x2=torch.Tensor([[[9,10],[11,12]],[[13,14],[15,16]]])\n",
        "\n",
        "y=x1.add(x2)\n",
        "\n",
        "print(x1,x2)\n",
        "\n",
        "print(\"here y\")\n",
        "print(y)"
      ]
    },
    {
      "cell_type": "code",
      "execution_count": null,
      "metadata": {},
      "outputs": [
        {
          "name": "stdout",
          "output_type": "stream",
          "text": [
            "torch.Size([1, 256, 13, 13])\n"
          ]
        }
      ],
      "source": [
        "x1=torch.randint(1,10,(1,64,26,26))\n",
        "b,c,h,w=x1.data.size()\n",
        "x1=x1.view(b,c,h//2,2,w//2,2).contiguous()\n",
        "x1=x1.permute(0,1,3,5,2,4).contiguous()\n",
        "x1=x1.view(b,-1,h//2,w//2)\n",
        "print(x1.data.size())"
      ]
    },
    {
      "cell_type": "code",
      "execution_count": null,
      "metadata": {},
      "outputs": [
        {
          "name": "stdout",
          "output_type": "stream",
          "text": [
            "tensor([[[[ 1.,  2.],\n",
            "          [ 3.,  4.]],\n",
            "\n",
            "         [[ 5.,  6.],\n",
            "          [ 7.,  8.]]],\n",
            "\n",
            "\n",
            "        [[[ 9., 10.],\n",
            "          [11., 12.]],\n",
            "\n",
            "         [[13., 14.],\n",
            "          [15., 16.]]]])\n",
            "-------------------------\n",
            "tensor([[[[ 1.,  3.],\n",
            "          [ 9., 11.]],\n",
            "\n",
            "         [[ 2.,  4.],\n",
            "          [10., 12.]]],\n",
            "\n",
            "\n",
            "        [[[ 5.,  7.],\n",
            "          [13., 15.]],\n",
            "\n",
            "         [[ 6.,  8.],\n",
            "          [14., 16.]]]])\n",
            "-------------------------\n",
            "torch.Size([4, 2, 2])\n",
            "tensor([[[ 1.,  3.],\n",
            "         [ 9., 11.]],\n",
            "\n",
            "        [[ 2.,  4.],\n",
            "         [10., 12.]],\n",
            "\n",
            "        [[ 5.,  7.],\n",
            "         [13., 15.]],\n",
            "\n",
            "        [[ 6.,  8.],\n",
            "         [14., 16.]]])\n"
          ]
        }
      ],
      "source": [
        "x1=torch.Tensor(np.arange(1,17).reshape(4,4))\n",
        "h,w=x1.data.size()\n",
        "x1=x1.view(h//2,2,w//2,2).contiguous()\n",
        "print(x1)\n",
        "x1=x1.permute(1,3,0,2).contiguous()\n",
        "print(\"-------------------------\")\n",
        "print(x1)\n",
        "x1=x1.view(-1,h//2,w//2)\n",
        "print(\"-------------------------\")\n",
        "print(x1.data.size())\n",
        "print(x1)"
      ]
    },
    {
      "cell_type": "code",
      "execution_count": null,
      "metadata": {
        "id": "DbTCsUTJTtwu"
      },
      "outputs": [],
      "source": [
        "#kitti data format\n",
        "# 1 type Describes the type of object: 'Car', 'Van', 'Truck',\n",
        "# 'Pedestrian', 'Person_sitting', 'Cyclist', 'Tram',\n",
        "# 'Misc' or 'DontCare'\n",
        "# 1 truncated Float from 0 (non-truncated) to 1 (truncated), where\n",
        "# truncated refers to the object leaving image boundaries\n",
        "# 1 occluded Integer (0,1,2,3) indicating occlusion state:\n",
        "# 0 = fully visible, 1 = partly occluded\n",
        "# 2 = largely occluded, 3 = unknown\n",
        "# 1 alpha Observation angle of object, ranging [-pi..pi]\n",
        "# 4 bbox 2D bounding box of object in the image (0-based index):\n",
        "# contains left, top, right, bottom pixel coordinates\n",
        "# 3 dimensions 3D object dimensions: height, width, length (in meters)\n",
        "# 3 location 3D object location x,y,z in camera coordinates (in meters)\n",
        "# 1 rotation_y Rotation ry around Y-axis in camera coordinates [-pi..pi]\n",
        "# https://github.com/NVIDIA/DIGITS/issues/992"
      ]
    },
    {
      "cell_type": "code",
      "execution_count": 26,
      "metadata": {
        "id": "78XElA7ETA3W"
      },
      "outputs": [
        {
          "name": "stdout",
          "output_type": "stream",
          "text": [
            "torch.Size([2, 2, 2, 2])\n",
            "tensor([[[[ 1,  2],\n",
            "          [ 3,  4]],\n",
            "\n",
            "         [[ 5,  6],\n",
            "          [ 7,  8]]],\n",
            "\n",
            "\n",
            "        [[[11, 22],\n",
            "          [33, 44]],\n",
            "\n",
            "         [[55, 66],\n",
            "          [77, 88]]]])\n",
            "tensor([[[[ 2],\n",
            "          [ 4]],\n",
            "\n",
            "         [[ 6],\n",
            "          [ 8]]],\n",
            "\n",
            "\n",
            "        [[[22],\n",
            "          [44]],\n",
            "\n",
            "         [[66],\n",
            "          [88]]]])\n"
          ]
        }
      ],
      "source": [
        "\n",
        "x=torch.tensor([[[[1,2],[3,4]],[[5,6],[7,8]]],[[[11,22],[33,44]],[[55,66],[77,88]]]])\n",
        "\n",
        "# a= x.unsqueeze(3)\n",
        "z= x\n",
        "print(z)\n",
        "z= x[...,1].unsqueeze(3)\n",
        "print(z)"
      ]
    },
    {
      "cell_type": "code",
      "execution_count": null,
      "metadata": {},
      "outputs": [],
      "source": []
    }
  ],
  "metadata": {
    "colab": {
      "include_colab_link": true,
      "name": "Just_test.ipynb",
      "private_outputs": true,
      "provenance": []
    },
    "interpreter": {
      "hash": "c6a70fdd13816683185290439b396d538f500f56ba4ecc2320a0dd2f0d19ebb0"
    },
    "kernelspec": {
      "display_name": "Python 3.10.0 ('torch_env')",
      "language": "python",
      "name": "python3"
    },
    "language_info": {
      "codemirror_mode": {
        "name": "ipython",
        "version": 3
      },
      "file_extension": ".py",
      "mimetype": "text/x-python",
      "name": "python",
      "nbconvert_exporter": "python",
      "pygments_lexer": "ipython3",
      "version": "3.10.0"
    }
  },
  "nbformat": 4,
  "nbformat_minor": 0
}
