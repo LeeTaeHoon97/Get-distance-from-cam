{
  "cells": [
    {
      "cell_type": "markdown",
      "metadata": {
        "colab_type": "text",
        "id": "view-in-github"
      },
      "source": [
        "<a href=\"https://colab.research.google.com/github/LeeTaeHoon97/Get-distance-from-cam/blob/main/Just_test.ipynb\" target=\"_parent\"><img src=\"https://colab.research.google.com/assets/colab-badge.svg\" alt=\"Open In Colab\"/></a>"
      ]
    },
    {
      "cell_type": "code",
      "execution_count": 4,
      "metadata": {
        "id": "KjDTdLNBNoXV"
      },
      "outputs": [
        {
          "ename": "NameError",
          "evalue": "name 'tf' is not defined",
          "output_type": "error",
          "traceback": [
            "\u001b[1;31m---------------------------------------------------------------------------\u001b[0m",
            "\u001b[1;31mNameError\u001b[0m                                 Traceback (most recent call last)",
            "\u001b[1;32m~\\AppData\\Local\\Temp\\ipykernel_12800\\3601274795.py\u001b[0m in \u001b[0;36m<module>\u001b[1;34m\u001b[0m\n\u001b[0;32m      3\u001b[0m \u001b[1;33m\u001b[0m\u001b[0m\n\u001b[0;32m      4\u001b[0m \u001b[0minput_shape\u001b[0m \u001b[1;33m=\u001b[0m \u001b[1;33m(\u001b[0m\u001b[1;36m2\u001b[0m\u001b[1;33m,\u001b[0m \u001b[1;36m2\u001b[0m\u001b[1;33m,\u001b[0m \u001b[1;36m2\u001b[0m\u001b[1;33m)\u001b[0m\u001b[1;33m\u001b[0m\u001b[1;33m\u001b[0m\u001b[0m\n\u001b[1;32m----> 5\u001b[1;33m \u001b[0mx1\u001b[0m \u001b[1;33m=\u001b[0m \u001b[0mtf\u001b[0m\u001b[1;33m.\u001b[0m\u001b[0mconstant\u001b[0m\u001b[1;33m(\u001b[0m\u001b[1;33m[\u001b[0m\u001b[1;33m[\u001b[0m\u001b[1;33m[\u001b[0m\u001b[1;36m1\u001b[0m\u001b[1;33m,\u001b[0m\u001b[1;36m2\u001b[0m\u001b[1;33m]\u001b[0m\u001b[1;33m,\u001b[0m\u001b[1;33m[\u001b[0m\u001b[1;36m3\u001b[0m\u001b[1;33m,\u001b[0m\u001b[1;36m4\u001b[0m\u001b[1;33m]\u001b[0m\u001b[1;33m]\u001b[0m\u001b[1;33m,\u001b[0m\u001b[1;33m[\u001b[0m\u001b[1;33m[\u001b[0m\u001b[1;36m5\u001b[0m\u001b[1;33m,\u001b[0m\u001b[1;36m6\u001b[0m\u001b[1;33m]\u001b[0m\u001b[1;33m,\u001b[0m\u001b[1;33m[\u001b[0m\u001b[1;36m7\u001b[0m\u001b[1;33m,\u001b[0m\u001b[1;36m8\u001b[0m\u001b[1;33m]\u001b[0m\u001b[1;33m]\u001b[0m\u001b[1;33m]\u001b[0m\u001b[1;33m)\u001b[0m\u001b[1;33m\u001b[0m\u001b[1;33m\u001b[0m\u001b[0m\n\u001b[0m\u001b[0;32m      6\u001b[0m \u001b[0mx2\u001b[0m \u001b[1;33m=\u001b[0m \u001b[0mtf\u001b[0m\u001b[1;33m.\u001b[0m\u001b[0mconstant\u001b[0m\u001b[1;33m(\u001b[0m\u001b[1;33m[\u001b[0m\u001b[1;33m[\u001b[0m\u001b[1;33m[\u001b[0m\u001b[1;36m9\u001b[0m\u001b[1;33m,\u001b[0m\u001b[1;36m10\u001b[0m\u001b[1;33m]\u001b[0m\u001b[1;33m,\u001b[0m\u001b[1;33m[\u001b[0m\u001b[1;36m11\u001b[0m\u001b[1;33m,\u001b[0m\u001b[1;36m12\u001b[0m\u001b[1;33m]\u001b[0m\u001b[1;33m]\u001b[0m\u001b[1;33m,\u001b[0m\u001b[1;33m[\u001b[0m\u001b[1;33m[\u001b[0m\u001b[1;36m13\u001b[0m\u001b[1;33m,\u001b[0m\u001b[1;36m14\u001b[0m\u001b[1;33m]\u001b[0m\u001b[1;33m,\u001b[0m\u001b[1;33m[\u001b[0m\u001b[1;36m15\u001b[0m\u001b[1;33m,\u001b[0m\u001b[1;36m16\u001b[0m\u001b[1;33m]\u001b[0m\u001b[1;33m]\u001b[0m\u001b[1;33m]\u001b[0m\u001b[1;33m)\u001b[0m\u001b[1;33m\u001b[0m\u001b[1;33m\u001b[0m\u001b[0m\n\u001b[0;32m      7\u001b[0m \u001b[1;33m\u001b[0m\u001b[0m\n",
            "\u001b[1;31mNameError\u001b[0m: name 'tf' is not defined"
          ]
        }
      ],
      "source": [
        "# from numpy import float32\n",
        "# # import tensorflow as tf\n",
        "\n",
        "# input_shape = (2, 2, 2)\n",
        "# x1 = tf.constant([[[1,2],[3,4]],[[5,6],[7,8]]])\n",
        "# x2 = tf.constant([[[9,10],[11,12]],[[13,14],[15,16]]])\n",
        "\n",
        "# y = tf.keras.layers.Add()([x1, x2])\n",
        "\n",
        "# print(x1,x2)\n",
        "\n",
        "# print(\"here y\")\n",
        "# print(y)"
      ]
    },
    {
      "cell_type": "code",
      "execution_count": 5,
      "metadata": {},
      "outputs": [
        {
          "name": "stderr",
          "output_type": "stream",
          "text": [
            "e:\\miniconda3\\envs\\torch_env\\lib\\site-packages\\tqdm\\auto.py:22: TqdmWarning: IProgress not found. Please update jupyter and ipywidgets. See https://ipywidgets.readthedocs.io/en/stable/user_install.html\n",
            "  from .autonotebook import tqdm as notebook_tqdm\n"
          ]
        },
        {
          "data": {
            "text/plain": [
              "False"
            ]
          },
          "execution_count": 5,
          "metadata": {},
          "output_type": "execute_result"
        }
      ],
      "source": [
        "import torch\n",
        "import torch.nn as nn\n",
        "import torch.nn.functional as F\n",
        "import numpy as np\n",
        "\n",
        "torch.cuda.is_available() "
      ]
    },
    {
      "cell_type": "code",
      "execution_count": 6,
      "metadata": {},
      "outputs": [
        {
          "name": "stdout",
          "output_type": "stream",
          "text": [
            "0\n"
          ]
        }
      ],
      "source": [
        "print(torch.cuda.device_count())"
      ]
    },
    {
      "cell_type": "code",
      "execution_count": 7,
      "metadata": {
        "id": "LKHPFOtOOQ37"
      },
      "outputs": [
        {
          "name": "stdout",
          "output_type": "stream",
          "text": [
            "tensor([[[1., 2.],\n",
            "         [3., 4.]],\n",
            "\n",
            "        [[5., 6.],\n",
            "         [7., 8.]]]) tensor([[[ 9., 10.],\n",
            "         [11., 12.]],\n",
            "\n",
            "        [[13., 14.],\n",
            "         [15., 16.]]])\n",
            "here y\n",
            "tensor([[[10., 12.],\n",
            "         [14., 16.]],\n",
            "\n",
            "        [[18., 20.],\n",
            "         [22., 24.]]])\n"
          ]
        }
      ],
      "source": [
        "\n",
        "x1=torch.Tensor([[[1,2],[3,4]],[[5,6],[7,8]]])\n",
        "x2=torch.Tensor([[[9,10],[11,12]],[[13,14],[15,16]]])\n",
        "\n",
        "y=x1.add(x2)\n",
        "\n",
        "print(x1,x2)\n",
        "\n",
        "print(\"here y\")\n",
        "print(y)"
      ]
    },
    {
      "cell_type": "code",
      "execution_count": 8,
      "metadata": {},
      "outputs": [
        {
          "name": "stdout",
          "output_type": "stream",
          "text": [
            "torch.Size([1, 256, 13, 13])\n"
          ]
        }
      ],
      "source": [
        "x1=torch.randint(1,10,(1,64,26,26))\n",
        "b,c,h,w=x1.data.size()\n",
        "x1=x1.view(b,c,h//2,2,w//2,2).contiguous()\n",
        "x1=x1.permute(0,1,3,5,2,4).contiguous()\n",
        "x1=x1.view(b,-1,h//2,w//2)\n",
        "print(x1.data.size())"
      ]
    },
    {
      "cell_type": "code",
      "execution_count": 9,
      "metadata": {},
      "outputs": [
        {
          "name": "stdout",
          "output_type": "stream",
          "text": [
            "tensor([[[[ 1.,  2.],\n",
            "          [ 3.,  4.]],\n",
            "\n",
            "         [[ 5.,  6.],\n",
            "          [ 7.,  8.]]],\n",
            "\n",
            "\n",
            "        [[[ 9., 10.],\n",
            "          [11., 12.]],\n",
            "\n",
            "         [[13., 14.],\n",
            "          [15., 16.]]]])\n",
            "-------------------------\n",
            "tensor([[[[ 1.,  3.],\n",
            "          [ 9., 11.]],\n",
            "\n",
            "         [[ 2.,  4.],\n",
            "          [10., 12.]]],\n",
            "\n",
            "\n",
            "        [[[ 5.,  7.],\n",
            "          [13., 15.]],\n",
            "\n",
            "         [[ 6.,  8.],\n",
            "          [14., 16.]]]])\n",
            "-------------------------\n",
            "torch.Size([4, 2, 2])\n",
            "tensor([[[ 1.,  3.],\n",
            "         [ 9., 11.]],\n",
            "\n",
            "        [[ 2.,  4.],\n",
            "         [10., 12.]],\n",
            "\n",
            "        [[ 5.,  7.],\n",
            "         [13., 15.]],\n",
            "\n",
            "        [[ 6.,  8.],\n",
            "         [14., 16.]]])\n"
          ]
        }
      ],
      "source": [
        "x1=torch.Tensor(np.arange(1,17).reshape(4,4))\n",
        "h,w=x1.data.size()\n",
        "x1=x1.view(h//2,2,w//2,2).contiguous()\n",
        "print(x1)\n",
        "x1=x1.permute(1,3,0,2).contiguous()\n",
        "print(\"-------------------------\")\n",
        "print(x1)\n",
        "x1=x1.view(-1,h//2,w//2)\n",
        "print(\"-------------------------\")\n",
        "print(x1.data.size())\n",
        "print(x1)"
      ]
    },
    {
      "cell_type": "code",
      "execution_count": 10,
      "metadata": {
        "id": "DbTCsUTJTtwu"
      },
      "outputs": [],
      "source": [
        "#kitti data format\n",
        "# 1 type Describes the type of object: 'Car', 'Van', 'Truck',\n",
        "# 'Pedestrian', 'Person_sitting', 'Cyclist', 'Tram',\n",
        "# 'Misc' or 'DontCare'\n",
        "# 1 truncated Float from 0 (non-truncated) to 1 (truncated), where\n",
        "# truncated refers to the object leaving image boundaries\n",
        "# 1 occluded Integer (0,1,2,3) indicating occlusion state:\n",
        "# 0 = fully visible, 1 = partly occluded\n",
        "# 2 = largely occluded, 3 = unknown\n",
        "# 1 alpha Observation angle of object, ranging [-pi..pi]\n",
        "# 4 bbox 2D bounding box of object in the image (0-based index):\n",
        "# contains left, top, right, bottom pixel coordinates\n",
        "# 3 dimensions 3D object dimensions: height, width, length (in meters)\n",
        "# 3 location 3D object location x,y,z in camera coordinates (in meters)\n",
        "# 1 rotation_y Rotation ry around Y-axis in camera coordinates [-pi..pi]\n",
        "# https://github.com/NVIDIA/DIGITS/issues/992"
      ]
    },
    {
      "cell_type": "code",
      "execution_count": 15,
      "metadata": {},
      "outputs": [
        {
          "name": "stdout",
          "output_type": "stream",
          "text": [
            "36.0\n"
          ]
        }
      ],
      "source": [
        "print(6084/13/13)"
      ]
    },
    {
      "cell_type": "code",
      "execution_count": 22,
      "metadata": {
        "id": "78XElA7ETA3W"
      },
      "outputs": [],
      "source": [
        "\n",
        "x=torch.tensor([[[[1,2],[3,4]],[[5,6],[7,8]]],[[[11,22],[33,44]],[[55,66],[77,88]]]])\n",
        "\n",
        "# a= x.unsqueeze(3)\n",
        "z= x\n",
        "# print(z)\n",
        "z= x[...,1].unsqueeze(3)\n",
        "# print(z)"
      ]
    },
    {
      "cell_type": "code",
      "execution_count": 105,
      "metadata": {},
      "outputs": [
        {
          "data": {
            "text/plain": [
              "tensor([[0, 0],\n",
              "        [3, 3],\n",
              "        [3, 3],\n",
              "        [3, 3]])"
            ]
          },
          "execution_count": 105,
          "metadata": {},
          "output_type": "execute_result"
        }
      ],
      "source": [
        "aa = torch.tensor([[0,0],[1,1],[2,2],[3,3]])\n",
        "aa[idx]\n"
      ]
    },
    {
      "cell_type": "code",
      "execution_count": 100,
      "metadata": {},
      "outputs": [
        {
          "data": {
            "text/plain": [
              "tensor([[16,  2,  3,  4],\n",
              "        [ 9, 10, 11,  1],\n",
              "        [ 5,  6,  7,  8],\n",
              "        [12, 13, 14, 15]])"
            ]
          },
          "execution_count": 100,
          "metadata": {},
          "output_type": "execute_result"
        }
      ],
      "source": [
        "aa"
      ]
    },
    {
      "cell_type": "code",
      "execution_count": null,
      "metadata": {},
      "outputs": [],
      "source": []
    }
  ],
  "metadata": {
    "colab": {
      "include_colab_link": true,
      "name": "Just_test.ipynb",
      "private_outputs": true,
      "provenance": []
    },
    "interpreter": {
      "hash": "c6a70fdd13816683185290439b396d538f500f56ba4ecc2320a0dd2f0d19ebb0"
    },
    "kernelspec": {
      "display_name": "Python 3.10.0 ('torch_env')",
      "language": "python",
      "name": "python3"
    },
    "language_info": {
      "codemirror_mode": {
        "name": "ipython",
        "version": 3
      },
      "file_extension": ".py",
      "mimetype": "text/x-python",
      "name": "python",
      "nbconvert_exporter": "python",
      "pygments_lexer": "ipython3",
      "version": "3.7.7"
    }
  },
  "nbformat": 4,
  "nbformat_minor": 0
}
