{
  "cells": [
    {
      "cell_type": "markdown",
      "metadata": {
        "id": "view-in-github",
        "colab_type": "text"
      },
      "source": [
        "<a href=\"https://colab.research.google.com/github/LeeTaeHoon97/Get-distance-from-cam/blob/edit-darknet-and-loss/run_colab.ipynb\" target=\"_parent\"><img src=\"https://colab.research.google.com/assets/colab-badge.svg\" alt=\"Open In Colab\"/></a>"
      ]
    },
    {
      "cell_type": "markdown",
      "source": [
        "<!-- colab part -->"
      ],
      "metadata": {
        "id": "S_F3oRtKryQ1"
      }
    },
    {
      "cell_type": "code",
      "source": [
        "# var rpt = setInterval(()=>{document.querySelector(\"#top-toolbar > colab-connect-button\").shadowRoot.querySelector(\"#connect\").click();console.log(new Date);}, 600000);"
      ],
      "metadata": {
        "id": "W9q1G-GtuGjV"
      },
      "execution_count": null,
      "outputs": []
    },
    {
      "cell_type": "code",
      "source": [
        "\t\n",
        "# clearInterval(rpt);"
      ],
      "metadata": {
        "id": "tPEvz7BMuKk7"
      },
      "execution_count": null,
      "outputs": []
    },
    {
      "cell_type": "code",
      "source": [
        "!nvidia-smi"
      ],
      "metadata": {
        "colab": {
          "base_uri": "https://localhost:8080/"
        },
        "id": "RYLCQofJrx4M",
        "outputId": "d548eb08-fc47-408a-b996-5d1007fa5ce4"
      },
      "execution_count": null,
      "outputs": [
        {
          "output_type": "stream",
          "name": "stdout",
          "text": [
            "Wed Mar 29 16:23:26 2023       \n",
            "+-----------------------------------------------------------------------------+\n",
            "| NVIDIA-SMI 525.85.12    Driver Version: 525.85.12    CUDA Version: 12.0     |\n",
            "|-------------------------------+----------------------+----------------------+\n",
            "| GPU  Name        Persistence-M| Bus-Id        Disp.A | Volatile Uncorr. ECC |\n",
            "| Fan  Temp  Perf  Pwr:Usage/Cap|         Memory-Usage | GPU-Util  Compute M. |\n",
            "|                               |                      |               MIG M. |\n",
            "|===============================+======================+======================|\n",
            "|   0  Tesla T4            Off  | 00000000:00:04.0 Off |                    0 |\n",
            "| N/A   58C    P8    11W /  70W |      0MiB / 15360MiB |      0%      Default |\n",
            "|                               |                      |                  N/A |\n",
            "+-------------------------------+----------------------+----------------------+\n",
            "                                                                               \n",
            "+-----------------------------------------------------------------------------+\n",
            "| Processes:                                                                  |\n",
            "|  GPU   GI   CI        PID   Type   Process name                  GPU Memory |\n",
            "|        ID   ID                                                   Usage      |\n",
            "|=============================================================================|\n",
            "|  No running processes found                                                 |\n",
            "+-----------------------------------------------------------------------------+\n"
          ]
        }
      ]
    },
    {
      "cell_type": "code",
      "source": [
        "from google.colab import drive\n",
        "drive.mount('/content/drive')"
      ],
      "metadata": {
        "id": "z2Ge_0dcsbuI",
        "colab": {
          "base_uri": "https://localhost:8080/"
        },
        "outputId": "b953bb47-dba0-441a-f52b-68953c894329"
      },
      "execution_count": null,
      "outputs": [
        {
          "output_type": "stream",
          "name": "stdout",
          "text": [
            "Drive already mounted at /content/drive; to attempt to forcibly remount, call drive.mount(\"/content/drive\", force_remount=True).\n"
          ]
        }
      ]
    },
    {
      "cell_type": "code",
      "source": [
        "# %cd \"/content/drive/MyDrive/Colab Notebooks/data/Get-distance-from-cam_data\"\n",
        "\n",
        "# !unzip -qq \"/content/drive/MyDrive/Colab Notebooks/data/Get-distance-from-cam_data/training_data.zip\""
      ],
      "metadata": {
        "id": "GZyPbHHkMPst"
      },
      "execution_count": null,
      "outputs": []
    },
    {
      "cell_type": "code",
      "source": [
        "# !unzip -qq \"/content/drive/MyDrive/Colab Notebooks/data/Get-distance-from-cam_data/training_label.zip\""
      ],
      "metadata": {
        "id": "m-fNaCwbziAh"
      },
      "execution_count": null,
      "outputs": []
    },
    {
      "cell_type": "code",
      "source": [],
      "metadata": {
        "id": "bJ6aW4O9z9b1"
      },
      "execution_count": null,
      "outputs": []
    },
    {
      "cell_type": "code",
      "source": [
        "cd \"/content/drive/MyDrive/github/Get-distance-from-cam\""
      ],
      "metadata": {
        "colab": {
          "base_uri": "https://localhost:8080/"
        },
        "id": "g_g0I4E5swgu",
        "outputId": "4ee028ba-7c30-4d99-f892-980ab0b06edf"
      },
      "execution_count": null,
      "outputs": [
        {
          "output_type": "stream",
          "name": "stdout",
          "text": [
            "/content/drive/MyDrive/github/Get-distance-from-cam\n"
          ]
        }
      ]
    },
    {
      "cell_type": "code",
      "source": [
        "# !pip install cv"
      ],
      "metadata": {
        "id": "4K3wIcfgPSYm"
      },
      "execution_count": null,
      "outputs": []
    },
    {
      "cell_type": "markdown",
      "source": [],
      "metadata": {
        "id": "XKMr3qXFzGZ4"
      }
    },
    {
      "cell_type": "code",
      "source": [],
      "metadata": {
        "id": "dX-kr9VnzG83"
      },
      "execution_count": null,
      "outputs": []
    },
    {
      "cell_type": "markdown",
      "source": [
        "### code start"
      ],
      "metadata": {
        "id": "aMqXiAQsr0u9"
      }
    },
    {
      "cell_type": "code",
      "execution_count": null,
      "metadata": {
        "id": "j5U73FIFritJ"
      },
      "outputs": [],
      "source": [
        "import torch\n",
        "import torch.nn as nn\n",
        "import torch.nn.functional as F\n",
        "import numpy as np\n",
        "import pandas as pd\n",
        "from sklearn.preprocessing import OneHotEncoder\n",
        "import numpy as np\n",
        "from tqdm import tqdm\n",
        "import cv2\n",
        "import os\n",
        "\n",
        "from model import Yolo\n",
        "# from loss import YoloLoss"
      ]
    },
    {
      "cell_type": "code",
      "source": [
        "from distutils.command.config import config\n",
        "import torch.nn as nn\n",
        "import torch\n",
        "#본 모델은 13x13의 그리드셀과 5개의 앵커박스, 8개의 클래스로 이루어짐\n",
        "#S=grid cell , B= anchor box or bounding box, C= num of class\n",
        "class YoloLoss(nn.Module):\n",
        "    def __init__(self ,S=13,B=5,C=8):\n",
        "        super(YoloLoss,self).__init__() #호환을 위해 python 2.0\n",
        "        self.mse=nn.MSELoss(reduction=\"sum\")\n",
        "        self.ce=nn.CrossEntropyLoss(reduction='sum')\n",
        "        self.S=S\n",
        "        self.B=B\n",
        "        self.C=C\n",
        "\n",
        "        self.lambda_noobj=0.5\n",
        "        self.lambda_coord=5\n",
        "        self.lambda_zcoord=0.3        #단안카메라 거리측정에 쓰일 loss balance param\n",
        "        \n",
        "    \n",
        "    def forward(self, pred, target):\n",
        "        #pred per grid cell = [class],  [box c score][box(x,y,w,h)] ... ,[box5 c score], [box5] , [distance]  = 8+5*5+1=34\n",
        "        #target  =객체가 하나뿐인 이미지 한장의 경우 13개의 그리드 셀로 분류된뒤 13*13*14 의 형태를 가짐 [class],[Pc = confidence score],[x], [y], [w], [h],[distance]   =   1+6=7 (class 는 one hot encoding)  \n",
        "        #이미지 크기는 앵커박스 도입을 위해 416 * 416으로 변경\n",
        "        #target에는 c score가 들어가야하기때문에 이미지를 13x13으로 grid cell을 나눈다. 이후 target의 중심 좌표가 속한 grid cell값에 1을 준다. \n",
        "        #5개의 앵커박스에서 iou각각 산출 한 뒤 최대값을 찾아냄.\n",
        "        batch_size=pred.data.size(0)\n",
        "        \n",
        "        pred = pred.reshape(-1,self.S,self.S,self.C+self.B*5+1)         #pred는 모델이 산출하여나온 값이 flatten 되어있는 상태, 이를 13x13x34의 형태 reshape\n",
        "        \n",
        "\n",
        "        #0~7 = classes, 8=box1 c score , 9~12=pos , 13 = box2 c score ...... 28 = box 5 c score, 29~32 = box5 pos, 33= dist \n",
        "\n",
        "        iou_b1 = self.iou(pred[..., 9:13],target[...,9:13])                         #target은 gt bbox로 5개의 앵커박스가 존재하는게 아닌 하나의 bbox를 가짐.\n",
        "        iou_b2 = self.iou(pred[..., 14:18],target[...,9:13])                        #target idx 0~7 = class, 8=Pc, 9~12 = pos , 13 = distance\n",
        "        iou_b3 = self.iou(pred[..., 19:23],target[...,9:13])\n",
        "        iou_b4 = self.iou(pred[..., 24:28],target[...,9:13])\n",
        "        iou_b5 = self.iou(pred[..., 29:33],target[...,9:13])\n",
        "\n",
        "\n",
        "        ious= torch.cat([iou_b1.unsqueeze(0),iou_b2.unsqueeze(0),iou_b3.unsqueeze(0),iou_b4.unsqueeze(0),iou_b5.unsqueeze(0)],dim=0)\n",
        "        \n",
        "       \n",
        "        iou_maxes, box_index=torch.max(ious,dim=0)        #bestbox에는 iou값이 가장 큰 bounding box의 index가 저장, iobj(ij) 를 말함.\n",
        "\n",
        "        exists_box=target[...,8].unsqueeze(3)   #Iobj_i, idx(13,13,8)은 box c score이다. 즉 0이면 존재하지 않고 1이면 존재한다.\n",
        "                                                # reshape에서 -1,S,S,output 형태로 나눠진 상태인데, 이 중 box c score만 가져오기 위해 unsqueeze(3)을 사용  \n",
        "                                               \n",
        "                                                \n",
        "        bestbox=[pred[..., 8:13],pred[..., 13:18],pred[..., 18:23],pred[..., 23:28],pred[..., 28:33]]        #bestbox는 index(0~4)까지의 박스 인덱스이므로 해당 인덱스에 상응하는 리스트 생성\n",
        "                                    #해당 박스의 각 elem에는 pred anchor의 c score, x,y,w,h가 들어가 있음.                                    \n",
        "        \n",
        "        #Localization Loss\n",
        "        #Iobj_ij를 명시하지 않은 이유 : bestbox[box_index]를 가져온다는 점에서,box_index의 iobj값이 1이라는걸 시사하기 때문\n",
        "\n",
        "        values, count = torch.mode(box_index[-1])\n",
        "        max_iou_idx= torch.mode(values.flatten())[0]\n",
        "        \n",
        "\n",
        "        x,y,w,h=target[...,9],target[...,10],target[...,11],target[...,12]\n",
        "        _, x_hat,y_hat,w_hat,h_hat=bestbox[max_iou_idx][...,0],bestbox[max_iou_idx][...,1],bestbox[max_iou_idx][...,2],bestbox[max_iou_idx][...,3],bestbox[max_iou_idx][...,4]         #에러 발생 시 bestbox의 형태가 어떤형태인지 확인할 필요가 있음, c score를 제외한 x y w h 가 hat변수에 들어감.\n",
        "        \n",
        "\n",
        "        localization_loss = exists_box * self.mse(torch.cat((x_hat, y_hat, w_hat, h_hat), dim=-1),\n",
        "                                          torch.cat((x, y, w, h), dim=-1))\n",
        "        localization_loss = self.lambda_coord * localization_loss\n",
        "\n",
        "\n",
        "        # localization_loss = exists_box * self.mse(torch.cat((x_hat, y_hat, torch.sqrt(w_hat), torch.sqrt(h_hat)), dim=-1),\n",
        "        #                                   torch.cat((x, y, torch.sqrt(w), torch.sqrt(h)), dim=-1))\n",
        "\n",
        "\n",
        "\n",
        "        # local_loss_part1= self.mse(x_hat,x)+self.mse(y_hat,y)\n",
        "        \n",
        "        # # local_loss_part2= self.mse(w_hat,w)+self.mse(h_hat,h)               #no sqrt\n",
        "\n",
        "        # local_loss_part2= self.mse(torch.sqrt(w_hat),torch.sqrt(w))+self.mse(torch.sqrt(h_hat),torch.sqrt(h))\n",
        "        \n",
        "        # local_loss_part2=torch.where(torch.isnan(local_loss_part2), torch.zeros_like(local_loss_part2), local_loss_part2)              #convert nan to 0\n",
        "\n",
        "        # localization_loss = local_loss_part1+local_loss_part2\n",
        "\n",
        "        # localization_loss=self.lambda_coord*localization_loss\n",
        "\n",
        "\n",
        "        # localization_loss=localization_loss*exists_box\n",
        "        # localization_loss=localization_loss\n",
        "\n",
        "\n",
        "        #Confidence Loss\n",
        "        c=target[...,8]\n",
        "        \n",
        "        conf_loss=0\n",
        "        no_conf_loss=0\n",
        "\n",
        "        # Iobj(ij) and Inoobj(ij)를 명시하지 않은 이유: 존재하든 존재하지 않든 모든경우를 다 계산하기 때문\n",
        "        for i in range(len(bestbox)):  \n",
        "            if i == max_iou_idx:  #최대 iou를 가진 anchor box일 경우. ,즉 responsible 또는 Iobj_ij\n",
        "                c_hat=bestbox[i][...,0]\n",
        "                conf_loss+=torch.pow((c-c_hat),2)\n",
        "            else:\n",
        "                c_hat=bestbox[i][...,0]\n",
        "                no_conf_loss+=torch.pow((c-c_hat),2)\n",
        "\n",
        "        confidence_loss=sum(conf_loss) + (self.lambda_noobj * sum(no_conf_loss))\n",
        "\n",
        "        confidence_loss=confidence_loss.unsqueeze(-1)\n",
        "\n",
        "\n",
        "        #Classification Loss\n",
        "        p=target[...,0:8]\n",
        "        p_hat=pred[...,0:8]\n",
        "\n",
        "        # p_hat = torch.reshape(p_hat, ( 13, 8))\n",
        "        # p = torch.reshape(p, ( 13, 8))\n",
        "\n",
        "        # print('p shape',p.shape)\n",
        "        # print('p shape',p_hat.shape)\n",
        "\n",
        "\n",
        "        classification_loss= exists_box * self.mse(p_hat,p)\n",
        "\n",
        "\n",
        "        #Dsitance Regression Loss\n",
        "        z=target[...,13]\n",
        "        z_hat=pred[...,33]\n",
        "    \n",
        "\n",
        "        # print(\"self.lambda_zcoord shape\",self.lambda_zcoord.shape)\n",
        "\n",
        "        distance_regression_loss =  (exists_box * self.mse(z_hat,z))\n",
        "\n",
        "\n",
        "        distance_regression_loss=self.lambda_zcoord *distance_regression_loss\n",
        "\n",
        "        loss = localization_loss+ confidence_loss+ classification_loss + distance_regression_loss\n",
        "\n",
        "        del iou_b1\n",
        "        del iou_b2\n",
        "        del iou_b3\n",
        "        del iou_b4\n",
        "        del iou_b5\n",
        "        del ious\n",
        "        del bestbox\n",
        "        del pred\n",
        "        # print(\"del loss\")\n",
        "\n",
        "        return loss\n",
        "        # return loss ,localization_loss,confidence_loss,classification_loss,distance_regression_loss\n",
        "    def iou(self,pred,target):          #yolo dataset은 midpoint 형식의 바운딩박스를 가짐.\n",
        "                                        #shape = [x,y,w,h]\n",
        "\n",
        "        #it means,  center x - (width/2) is x start\n",
        "        pred_box_x1=pred[...,0:1]-(pred[...,2:3]/2)\n",
        "        pred_box_y1=pred[...,1:2]-(pred[...,3:4]/2)\n",
        "        pred_box_x2=pred[...,0:1]+(pred[...,2:3]/2)\n",
        "        pred_box_y2=pred[...,1:2]+(pred[...,3:4]/2)\n",
        "\n",
        "        \n",
        "        target_box_x1=target[...,0:1]-(target[...,2:3]/2)\n",
        "        target_box_y1=target[...,1:2]-(target[...,3:4]/2)\n",
        "        target_box_x2=target[...,0:1]+(target[...,2:3]/2)\n",
        "        target_box_y2=target[...,1:2]+(target[...,3:4]/2)\n",
        "        \n",
        "        #두 사각형의 겹치는 면적 좌표 구하기\n",
        "        x1=torch.max(pred_box_x1,target_box_x1)\n",
        "        y1=torch.max(pred_box_y1,target_box_y1)\n",
        "        x2=torch.max(pred_box_x2,target_box_x2)\n",
        "        y2=torch.max(pred_box_y2,target_box_y2)\n",
        "\n",
        "        intersection=(x2-x1).clamp(0) * (y2-y1).clamp(0)        #torch.clamp(0)을 사용, 만약 두 사각형이 겹치지 않는경우 neg~0사이의 값이 나오므로 이를 0으로 조정 해줌.\n",
        "\n",
        "        pred_box_area=abs((pred_box_x2-pred_box_x1)*(pred_box_y2-pred_box_y1))\n",
        "        target_box_area=abs((target_box_x2-target_box_x1)*(target_box_y2-target_box_y1))\n",
        "\n",
        "        return intersection/(pred_box_area+target_box_area-intersection+ 1e-6)\n",
        "\n"
      ],
      "metadata": {
        "id": "IR3BSoOwzcug"
      },
      "execution_count": null,
      "outputs": []
    },
    {
      "cell_type": "code",
      "execution_count": null,
      "metadata": {
        "id": "xAhBghC9ritN"
      },
      "outputs": [],
      "source": [
        "# from PIL import Image\n",
        "\n",
        "# # Open the image file\n",
        "# with Image.open('/content/drive/MyDrive/Colab Notebooks/data/Get-distance-from-cam_data/image_2/000000.png') as img:\n",
        "#     # Get the width and height of the image\n",
        "#     Image_Width, Image_Height = img.size\n",
        "#     print(f\"Image size: {Image_Width} x {Image_Height}\")\n",
        "\n",
        "\n",
        "# #kitti dataset의 실제크기, resize를 위해 파악"
      ]
    },
    {
      "cell_type": "code",
      "execution_count": null,
      "metadata": {
        "colab": {
          "base_uri": "https://localhost:8080/",
          "height": 54
        },
        "id": "GApJegcgritN",
        "outputId": "f9f79df2-66f6-4ef0-f5ae-d84130856ecc"
      },
      "outputs": [
        {
          "output_type": "stream",
          "name": "stdout",
          "text": [
            "1\n"
          ]
        },
        {
          "output_type": "execute_result",
          "data": {
            "text/plain": [
              "'cuda'"
            ],
            "application/vnd.google.colaboratory.intrinsic+json": {
              "type": "string"
            }
          },
          "metadata": {},
          "execution_count": 12
        }
      ],
      "source": [
        "\n",
        "torch.cuda.is_available() \n",
        "print(torch.cuda.device_count())\n",
        "\n",
        "device = 'cuda' if torch.cuda.is_available() else 'cpu'\n",
        "device"
      ]
    },
    {
      "cell_type": "markdown",
      "metadata": {
        "id": "C5eB22oNritO"
      },
      "source": [
        "### 라벨 전처리"
      ]
    },
    {
      "cell_type": "code",
      "execution_count": null,
      "metadata": {
        "id": "2UuM8503ritP"
      },
      "outputs": [],
      "source": [
        "# [class],[Pc = confidence score],[x], [y], [w], [h],[distance] = 0~7 c x y w h dist\n"
      ]
    },
    {
      "cell_type": "code",
      "execution_count": null,
      "metadata": {
        "id": "oeFaC3LTritQ"
      },
      "outputs": [],
      "source": [
        "# column_names=['class','truncated','occluded','alpha','x1','y1','x2','y2','dimensions_h','dimensions_w','dimensions_len','location_x','location_y','distance','rotation_y']\n",
        "# one_hot_labeling={'Car':0, 'Van':1, 'Truck':2,'Pedestrian':3, 'Person_sitting':4, 'Cyclist':5, 'Tram':6,'Misc':7, 'DontCare':7}        #Misc and DontCare is same value\n",
        "\n",
        "\n",
        "# import os\n",
        "\n",
        "# folder_path = \"dataset/training/label_2\"\n",
        "\n",
        "# #txt파일 단위로 불러옴\n",
        "# for filename in tqdm(os.listdir(folder_path)):\n",
        "#     temp=pd.read_csv(folder_path+'/'+filename,delimiter=' ',names=column_names)\n",
        "#     temp=temp.drop(columns=['truncated','occluded','alpha','dimensions_h','dimensions_w','dimensions_len','location_x','location_y','rotation_y'])\n",
        "\n",
        "#     #class one hot vector로 변환\n",
        "#     temp['class'] = np.array(list(map(lambda x:one_hot_labeling[x],list(temp['class'])))).reshape(-1, 1)\n",
        "\n",
        " \n",
        "\n",
        "#     temp\n",
        "\n",
        "#     # 좌표 resize 416* 416\n",
        "#     temp['x1'] = ((416.0/Image_Width)*temp['x1'])\n",
        "#     temp['y1'] = ((416.0/Image_Height)*temp['y1'])\n",
        "#     temp['x2'] = ((416.0/Image_Width)*temp['x2'])\n",
        "#     temp['y2'] = ((416.0/Image_Height)*temp['y2'])\n",
        "\n",
        "#     # x y w h 형식으로 bbox 변환 (여기서 x y는 중심좌표,)   \n",
        "#     center_x=(temp['x1'] + temp['x2'])/2.0\n",
        "#     center_y=(temp['y1'] + temp['y2'])/2.0\n",
        "#     w=temp['x2'] - temp['x1']\n",
        "#     h=temp['y2'] - temp['y1']\n",
        "#     temp['x1'] = center_x\n",
        "#     temp['y1'] = center_y\n",
        "#     temp['x2'] = w\n",
        "#     temp['y2'] = h\n",
        "\n",
        "#     temp.rename(columns = {'x1' : 'x','y1' : 'y','x2' : 'w','y2' : 'h'}, inplace = True)\n",
        "\n",
        "#     #txt형태로 파일 덮어쓰기 \n",
        "#     temp.to_csv(folder_path+'/'+filename,sep=' ',index = False , header=None)\n",
        "\n",
        "\n",
        "# # # #이후 데이터셋에서 텐서로 바꿀때 index 8에 c score 자리 만들기\n"
      ]
    },
    {
      "cell_type": "code",
      "execution_count": null,
      "metadata": {
        "id": "0c-exM-qritR",
        "outputId": "50fd06de-c1c9-466c-817e-7216c0c6ad55",
        "colab": {
          "base_uri": "https://localhost:8080/"
        }
      },
      "outputs": [
        {
          "output_type": "execute_result",
          "data": {
            "text/plain": [
              "13"
            ]
          },
          "metadata": {},
          "execution_count": 15
        }
      ],
      "source": [
        "int(416/32)\n"
      ]
    },
    {
      "cell_type": "code",
      "source": [
        "device"
      ],
      "metadata": {
        "colab": {
          "base_uri": "https://localhost:8080/",
          "height": 35
        },
        "id": "Wk9v4TeC87vX",
        "outputId": "ee5e3ace-233d-4302-9bc9-67797ae03864"
      },
      "execution_count": null,
      "outputs": [
        {
          "output_type": "execute_result",
          "data": {
            "text/plain": [
              "'cuda'"
            ],
            "application/vnd.google.colaboratory.intrinsic+json": {
              "type": "string"
            }
          },
          "metadata": {},
          "execution_count": 16
        }
      ]
    },
    {
      "cell_type": "markdown",
      "metadata": {
        "id": "GISmeXV1ritR"
      },
      "source": [
        "### custom dataset"
      ]
    },
    {
      "cell_type": "code",
      "execution_count": null,
      "metadata": {
        "id": "T1bHaDNeritS"
      },
      "outputs": [],
      "source": [
        "class CustomDataset(torch.utils.data.Dataset):\n",
        "    # S= grid cell, B= num of anchors, C = num of classes\n",
        "    def __init__(self, folder_dir, img_dir, label_dir, S=13, B=5, C=8, transform=None):         \n",
        "        self.img_folder=folder_dir[0]\n",
        "        self.label_folder=folder_dir[1]\n",
        "        self.img_path=img_dir\n",
        "        self.label_path=label_dir\n",
        "        \n",
        "        self.S=S\n",
        "        self.B=B\n",
        "        self.C=C\n",
        "        self.transform=transform\n",
        "        \n",
        "    def __len__(self):\n",
        "        return len(self.img_path)\n",
        "        \n",
        "\n",
        "    def __getitem__(self, idx):\n",
        "        \n",
        "        #image 전처리\n",
        "        \n",
        "        image_filepath = self.img_folder+'/'+self.img_path[idx]\n",
        "        # print(image_filepath)\n",
        "        image = cv2.imread(image_filepath)\n",
        "        image = cv2.cvtColor(image, cv2.COLOR_BGR2RGB)\n",
        "        image = cv2.resize(image, (416, 416))\n",
        "        \n",
        "        image=image.transpose(2,0,1)\n",
        "        image=torch.from_numpy(image).float().div(255.0)\n",
        "        image.requires_grad=True\n",
        "        #label 추가 전처리\n",
        "\n",
        "        bboxes=np.loadtxt(self.label_folder+'/'+self.label_path[idx]).tolist()\n",
        "\n",
        "        label_matrix = torch.zeros((self.S, self.S, self.C+6 )) # 13*13*14(class(8) + c_score x y w h distance)\n",
        "        \n",
        "        try:\n",
        "            for bbox in bboxes:\n",
        "                # print(bbox)\n",
        "                class_label=int(bbox[0]) \n",
        "                x, y=bbox[1],bbox[2]\n",
        "                width, height= bbox[3],bbox[4]\n",
        "                distance= bbox[5]\n",
        "\n",
        "                # x, y의 위치 grid cell 파악하기\n",
        "                x_cell = int(x/32) # 0~12\n",
        "                y_cell = int(y/32) # 0~12\n",
        "                x_val_inCell = float((x - x_cell * 32.0)/32.0) # 0.0 ~ 1.0\n",
        "                y_val_inCell = float((y - y_cell * 32.0)/32.0) # 0.0 ~ 1.0\n",
        "\n",
        "                # w, h 를 0~1 사이의 값으로 만들기\n",
        "                w = width / 416.0\n",
        "                h = height / 416.0\n",
        "\n",
        "\n",
        "\n",
        "                label_matrix[y_cell, x_cell, 8] = 1.0                                       #c_score 8 in pred\n",
        "                label_matrix[y_cell, x_cell, class_label] = 1.0     #idx 0~7\n",
        "                label_matrix[y_cell, x_cell, 9] = x_val_inCell                              #bbox 9~12\n",
        "                label_matrix[y_cell, x_cell, 10] = y_val_inCell\n",
        "                label_matrix[y_cell, x_cell, 11] = w\n",
        "                label_matrix[y_cell, x_cell, 12] = h\n",
        "                label_matrix[y_cell, x_cell, 13] = distance                                 #distance 13\n",
        "                \n",
        "                \n",
        "        # single label\n",
        "        except TypeError as e:\n",
        "  \n",
        "            bbox=bboxes\n",
        "            class_label=int(bbox[0])\n",
        "            x, y=bbox[1],bbox[2]\n",
        "            width, height= bbox[3],bbox[4]\n",
        "            distance= bbox[5]\n",
        "\n",
        "            # x, y의 위치 grid cell 파악하기\n",
        "            x_cell = int(x/32) # 0~12\n",
        "            y_cell = int(y/32) # 0~12\n",
        "            x_val_inCell = float((x - x_cell * 32.0)/32.0) # 0.0 ~ 1.0\n",
        "            y_val_inCell = float((y - y_cell * 32.0)/32.0) # 0.0 ~ 1.0\n",
        "\n",
        "            # w, h 를 0~1 사이의 값으로 만들기\n",
        "            w = width / 416.0\n",
        "            h = height / 416.0\n",
        "\n",
        "            label_matrix[y_cell, x_cell, 8] = 1.0                                       #c_score 8\n",
        "            label_matrix[y_cell, x_cell, class_label] = 1.0     #idx 0~7\n",
        "            label_matrix[y_cell, x_cell, 9] = x_val_inCell                              #bbox 9~12\n",
        "            label_matrix[y_cell, x_cell, 10] = y_val_inCell\n",
        "            label_matrix[y_cell, x_cell, 11] = w\n",
        "            label_matrix[y_cell, x_cell, 12] = h\n",
        "            label_matrix[y_cell, x_cell, 13] = distance                                 #distance 13\n",
        "         \n",
        "        return image.to(device), label_matrix.to(device)"
      ]
    },
    {
      "cell_type": "code",
      "execution_count": null,
      "metadata": {
        "id": "5whPla7oritS"
      },
      "outputs": [],
      "source": [
        "img_label_folder_path=['/content/drive/MyDrive/Colab Notebooks/data/Get-distance-from-cam_data/image_2','/content/drive/MyDrive/Colab Notebooks/data/Get-distance-from-cam_data/label_2']\n",
        "img_path=os.listdir('/content/drive/MyDrive/Colab Notebooks/data/Get-distance-from-cam_data/image_2/')\n",
        "label_path=os.listdir('/content/drive/MyDrive/Colab Notebooks/data/Get-distance-from-cam_data/label_2/')\n",
        "img_path.sort()\n",
        "label_path.sort()"
      ]
    },
    {
      "cell_type": "code",
      "source": [
        "img_path=(img_path[:100])\n",
        "label_path=(label_path[:100])\n",
        "len(label_path)\n",
        "len(img_path)\n"
      ],
      "metadata": {
        "colab": {
          "base_uri": "https://localhost:8080/"
        },
        "id": "3CFLuZEJy6zv",
        "outputId": "6e178ba6-0bdf-45ea-bc2b-145f8a2d7ab2"
      },
      "execution_count": null,
      "outputs": [
        {
          "output_type": "execute_result",
          "data": {
            "text/plain": [
              "100"
            ]
          },
          "metadata": {},
          "execution_count": 19
        }
      ]
    },
    {
      "cell_type": "code",
      "source": [
        "print(img_path[0] )\n",
        "print(label_path[0])"
      ],
      "metadata": {
        "colab": {
          "base_uri": "https://localhost:8080/"
        },
        "id": "XUFIKo64ER_n",
        "outputId": "6ea4b3f7-d25b-4bd9-b63c-43224740197c"
      },
      "execution_count": null,
      "outputs": [
        {
          "output_type": "stream",
          "name": "stdout",
          "text": [
            "000000.png\n",
            "000000.txt\n"
          ]
        }
      ]
    },
    {
      "cell_type": "code",
      "source": [
        "dset=CustomDataset(img_label_folder_path,img_path,label_path)"
      ],
      "metadata": {
        "id": "VT0wcBCx0UWO"
      },
      "execution_count": null,
      "outputs": []
    },
    {
      "cell_type": "code",
      "execution_count": null,
      "metadata": {
        "id": "A9G7Y_GCritT"
      },
      "outputs": [],
      "source": [
        "from torch.utils.data import DataLoader\n",
        "dataloader = DataLoader(dset, batch_size=8, shuffle=True)"
      ]
    },
    {
      "cell_type": "code",
      "execution_count": null,
      "metadata": {
        "id": "8hYxt1XVritT"
      },
      "outputs": [],
      "source": [
        "\n",
        "# for batch_idx, samples in tqdm(enumerate(dataloader)):\n",
        "#     _,l=samples\n",
        "#     # print(l[-1][0])\n",
        "#     break"
      ]
    },
    {
      "cell_type": "code",
      "execution_count": null,
      "metadata": {
        "id": "TdypBmkyritT"
      },
      "outputs": [],
      "source": [
        "# import matplotlib.pyplot as plt\n",
        "\n",
        "# for batch_idx, (inputs, labels) in enumerate(dataloader):\n",
        "#     print(labels.shape)\n",
        "\n",
        "#     inputs= inputs[0]\n",
        "#     inputs=inputs.to(device)\n",
        "#     inputs = inputs.permute(1,2,0)\n",
        "#     print(inputs.shape)\n",
        "#     plt.figure()\n",
        "#     plt.imshow(inputs.cpu().detach().numpy())\n",
        "#     plt.show()\n",
        "#     break"
      ]
    },
    {
      "cell_type": "markdown",
      "metadata": {
        "id": "cmblLnBUritU"
      },
      "source": [
        "### model training"
      ]
    },
    {
      "cell_type": "code",
      "execution_count": null,
      "metadata": {
        "id": "TSiostmyritU"
      },
      "outputs": [],
      "source": [
        "model = Yolo(8).to(device)\n",
        "\n"
      ]
    },
    {
      "cell_type": "code",
      "source": [
        "model.parameters()\n",
        "# del model"
      ],
      "metadata": {
        "colab": {
          "base_uri": "https://localhost:8080/"
        },
        "id": "2g6u68mg9r0x",
        "outputId": "b9934dfb-c01d-45e2-ffe7-7b3fe2d7c864"
      },
      "execution_count": null,
      "outputs": [
        {
          "output_type": "execute_result",
          "data": {
            "text/plain": [
              "<generator object Module.parameters at 0x7efe67ab9c80>"
            ]
          },
          "metadata": {},
          "execution_count": 26
        }
      ]
    },
    {
      "cell_type": "code",
      "source": [
        "optimizer = torch.optim.SGD(model.parameters(), lr=0.00001) \n",
        "criterion=YoloLoss()"
      ],
      "metadata": {
        "id": "Xr4T662G9qIG"
      },
      "execution_count": null,
      "outputs": []
    },
    {
      "cell_type": "code",
      "execution_count": null,
      "metadata": {
        "id": "Ex-2-RQHritU"
      },
      "outputs": [],
      "source": [
        "# criterion(prediction, y_train)"
      ]
    },
    {
      "cell_type": "code",
      "execution_count": null,
      "metadata": {
        "id": "J3YuHGghritU"
      },
      "outputs": [],
      "source": [
        "loss_lst=[]\n",
        "lt = len(dset)"
      ]
    },
    {
      "cell_type": "code",
      "source": [
        "print(next(model.parameters()).is_cuda)"
      ],
      "metadata": {
        "id": "T9JklfW_TWar",
        "colab": {
          "base_uri": "https://localhost:8080/"
        },
        "outputId": "8d66db2a-5006-4eda-a37f-7aae97970c17"
      },
      "execution_count": null,
      "outputs": [
        {
          "output_type": "stream",
          "name": "stdout",
          "text": [
            "True\n"
          ]
        }
      ]
    },
    {
      "cell_type": "code",
      "source": [
        "print(device)"
      ],
      "metadata": {
        "colab": {
          "base_uri": "https://localhost:8080/"
        },
        "id": "P2Qji6OS3RW9",
        "outputId": "0193a922-c051-4983-ef6b-7ca6f02ce5a6"
      },
      "execution_count": null,
      "outputs": [
        {
          "output_type": "stream",
          "name": "stdout",
          "text": [
            "cuda\n"
          ]
        }
      ]
    },
    {
      "cell_type": "code",
      "source": [
        "# !cat /proc/meminfo"
      ],
      "metadata": {
        "id": "N26-yN71swQj"
      },
      "execution_count": null,
      "outputs": []
    },
    {
      "cell_type": "code",
      "source": [
        "# del dataloader"
      ],
      "metadata": {
        "id": "8sCbF3SF3kl3"
      },
      "execution_count": null,
      "outputs": []
    },
    {
      "cell_type": "code",
      "execution_count": null,
      "metadata": {
        "id": "ewg6z0BUritU",
        "outputId": "e4816b3e-0db2-48c4-c2ac-e9174b1a3563",
        "colab": {
          "base_uri": "https://localhost:8080/"
        }
      },
      "outputs": [
        {
          "output_type": "stream",
          "name": "stdout",
          "text": [
            "Epoch    0/11 Batch 1/13 total loss: 170286.156250\n",
            "Epoch    0/11 Batch 2/13 total loss: 131511.031250\n",
            "Epoch    0/11 Batch 3/13 total loss: 137936.515625\n",
            "Epoch    0/11 Batch 4/13 total loss: 31279.423828\n",
            "Epoch    0/11 Batch 5/13 total loss: 29194.656250\n",
            "Epoch    0/11 Batch 6/13 total loss: 213753.359375\n",
            "Epoch    0/11 Batch 7/13 total loss: 222555.359375\n",
            "Epoch    0/11 Batch 8/13 total loss: 31313.343750\n",
            "Epoch    0/11 Batch 9/13 total loss: 165333.640625\n",
            "Epoch    0/11 Batch 10/13 total loss: 116926.726562\n",
            "Epoch    0/11 Batch 11/13 total loss: 163135.796875\n",
            "Epoch    0/11 Batch 12/13 total loss: 244207.250000\n",
            "Epoch    0/11 Batch 13/13 total loss: 73382.937500\n",
            "Epoch    1/11 Batch 1/13 total loss: 161208.265625\n",
            "Epoch    1/11 Batch 2/13 total loss: 97968.164062\n",
            "Epoch    1/11 Batch 3/13 total loss: 161033.046875\n",
            "Epoch    1/11 Batch 4/13 total loss: 173469.562500\n",
            "Epoch    1/11 Batch 5/13 total loss: 67529.554688\n",
            "Epoch    1/11 Batch 6/13 total loss: 221076.921875\n",
            "Epoch    1/11 Batch 7/13 total loss: 151875.125000\n",
            "Epoch    1/11 Batch 8/13 total loss: 129962.531250\n",
            "Epoch    1/11 Batch 9/13 total loss: 140986.296875\n",
            "Epoch    1/11 Batch 10/13 total loss: 54338.402344\n",
            "Epoch    1/11 Batch 11/13 total loss: 122147.007812\n",
            "Epoch    1/11 Batch 12/13 total loss: 54194.792969\n",
            "Epoch    1/11 Batch 13/13 total loss: 84446.671875\n",
            "Epoch    2/11 Batch 1/13 total loss: 59775.812500\n",
            "Epoch    2/11 Batch 2/13 total loss: 164603.734375\n",
            "Epoch    2/11 Batch 3/13 total loss: 86549.992188\n",
            "Epoch    2/11 Batch 4/13 total loss: 158243.031250\n",
            "Epoch    2/11 Batch 5/13 total loss: 136695.000000\n",
            "Epoch    2/11 Batch 6/13 total loss: 93092.046875\n",
            "Epoch    2/11 Batch 7/13 total loss: 80940.250000\n",
            "Epoch    2/11 Batch 8/13 total loss: 92739.445312\n",
            "Epoch    2/11 Batch 9/13 total loss: 170160.250000\n",
            "Epoch    2/11 Batch 10/13 total loss: 189782.812500\n",
            "Epoch    2/11 Batch 11/13 total loss: 91727.773438\n",
            "Epoch    2/11 Batch 12/13 total loss: 143402.406250\n",
            "Epoch    2/11 Batch 13/13 total loss: 133165.828125\n",
            "Epoch    3/11 Batch 1/13 total loss: 121644.851562\n",
            "Epoch    3/11 Batch 2/13 total loss: 123773.351562\n",
            "Epoch    3/11 Batch 3/13 total loss: 139614.125000\n",
            "Epoch    3/11 Batch 4/13 total loss: 90532.734375\n",
            "Epoch    3/11 Batch 5/13 total loss: 113998.781250\n",
            "Epoch    3/11 Batch 6/13 total loss: 134885.281250\n",
            "Epoch    3/11 Batch 7/13 total loss: 107283.875000\n",
            "Epoch    3/11 Batch 8/13 total loss: 78062.625000\n",
            "Epoch    3/11 Batch 9/13 total loss: 117384.890625\n",
            "Epoch    3/11 Batch 10/13 total loss: 145766.562500\n",
            "Epoch    3/11 Batch 11/13 total loss: 59203.113281\n",
            "Epoch    3/11 Batch 12/13 total loss: 234199.250000\n",
            "Epoch    3/11 Batch 13/13 total loss: 58427.539062\n",
            "Epoch    4/11 Batch 1/13 total loss: 141995.109375\n",
            "Epoch    4/11 Batch 2/13 total loss: 135551.812500\n",
            "Epoch    4/11 Batch 3/13 total loss: 138165.328125\n",
            "Epoch    4/11 Batch 4/13 total loss: 149221.640625\n",
            "Epoch    4/11 Batch 5/13 total loss: 108153.906250\n",
            "Epoch    4/11 Batch 6/13 total loss: 113541.929688\n",
            "Epoch    4/11 Batch 7/13 total loss: 74227.820312\n",
            "Epoch    4/11 Batch 8/13 total loss: 70630.171875\n",
            "Epoch    4/11 Batch 9/13 total loss: 175740.250000\n",
            "Epoch    4/11 Batch 10/13 total loss: 123357.351562\n",
            "Epoch    4/11 Batch 11/13 total loss: 158407.640625\n",
            "Epoch    4/11 Batch 12/13 total loss: 74415.695312\n",
            "Epoch    4/11 Batch 13/13 total loss: 40935.195312\n",
            "Epoch    5/11 Batch 1/13 total loss: 79887.187500\n",
            "Epoch    5/11 Batch 2/13 total loss: 156525.843750\n",
            "Epoch    5/11 Batch 3/13 total loss: 124184.960938\n",
            "Epoch    5/11 Batch 4/13 total loss: 118391.507812\n",
            "Epoch    5/11 Batch 5/13 total loss: 186491.296875\n",
            "Epoch    5/11 Batch 6/13 total loss: 81298.304688\n",
            "Epoch    5/11 Batch 7/13 total loss: 59622.824219\n",
            "Epoch    5/11 Batch 8/13 total loss: 78858.789062\n",
            "Epoch    5/11 Batch 9/13 total loss: 159627.812500\n",
            "Epoch    5/11 Batch 10/13 total loss: 179310.515625\n",
            "Epoch    5/11 Batch 11/13 total loss: 124569.625000\n",
            "Epoch    5/11 Batch 12/13 total loss: 96813.171875\n",
            "Epoch    5/11 Batch 13/13 total loss: 48696.054688\n",
            "Epoch    6/11 Batch 1/13 total loss: 52076.031250\n",
            "Epoch    6/11 Batch 2/13 total loss: 63994.445312\n",
            "Epoch    6/11 Batch 3/13 total loss: 103155.976562\n",
            "Epoch    6/11 Batch 4/13 total loss: 294330.593750\n",
            "Epoch    6/11 Batch 5/13 total loss: 208903.203125\n",
            "Epoch    6/11 Batch 6/13 total loss: 78385.148438\n",
            "Epoch    6/11 Batch 7/13 total loss: 132433.468750\n",
            "Epoch    6/11 Batch 8/13 total loss: 151173.062500\n",
            "Epoch    6/11 Batch 9/13 total loss: 216865.187500\n",
            "Epoch    6/11 Batch 10/13 total loss: 67790.281250\n",
            "Epoch    6/11 Batch 11/13 total loss: 55801.949219\n",
            "Epoch    6/11 Batch 12/13 total loss: 137035.781250\n",
            "Epoch    6/11 Batch 13/13 total loss: 29731.136719\n",
            "Epoch    7/11 Batch 1/13 total loss: 144428.828125\n",
            "Epoch    7/11 Batch 2/13 total loss: 155265.046875\n",
            "Epoch    7/11 Batch 3/13 total loss: 61522.558594\n",
            "Epoch    7/11 Batch 4/13 total loss: 81851.906250\n",
            "Epoch    7/11 Batch 5/13 total loss: 152081.343750\n",
            "Epoch    7/11 Batch 6/13 total loss: 123250.890625\n",
            "Epoch    7/11 Batch 7/13 total loss: 167001.453125\n",
            "Epoch    7/11 Batch 8/13 total loss: 62947.421875\n",
            "Epoch    7/11 Batch 9/13 total loss: 90977.140625\n",
            "Epoch    7/11 Batch 10/13 total loss: 147498.296875\n",
            "Epoch    7/11 Batch 11/13 total loss: 58409.042969\n",
            "Epoch    7/11 Batch 12/13 total loss: 115444.476562\n",
            "Epoch    7/11 Batch 13/13 total loss: 33443.160156\n",
            "Epoch    8/11 Batch 1/13 total loss: 77002.734375\n",
            "Epoch    8/11 Batch 2/13 total loss: 113392.898438\n",
            "Epoch    8/11 Batch 3/13 total loss: 102862.250000\n",
            "Epoch    8/11 Batch 4/13 total loss: 89383.578125\n",
            "Epoch    8/11 Batch 5/13 total loss: 186408.859375\n",
            "Epoch    8/11 Batch 6/13 total loss: 56025.113281\n",
            "Epoch    8/11 Batch 7/13 total loss: 131163.296875\n",
            "Epoch    8/11 Batch 8/13 total loss: 49876.195312\n",
            "Epoch    8/11 Batch 9/13 total loss: 171602.250000\n",
            "Epoch    8/11 Batch 10/13 total loss: 131348.187500\n",
            "Epoch    8/11 Batch 11/13 total loss: 89209.546875\n",
            "Epoch    8/11 Batch 12/13 total loss: 128837.898438\n",
            "Epoch    8/11 Batch 13/13 total loss: 21929.890625\n",
            "Epoch    9/11 Batch 1/13 total loss: 184717.906250\n",
            "Epoch    9/11 Batch 2/13 total loss: 147092.671875\n",
            "Epoch    9/11 Batch 3/13 total loss: 77531.359375\n",
            "Epoch    9/11 Batch 4/13 total loss: 116440.000000\n",
            "Epoch    9/11 Batch 5/13 total loss: 69545.375000\n",
            "Epoch    9/11 Batch 6/13 total loss: 88932.960938\n",
            "Epoch    9/11 Batch 7/13 total loss: 113711.882812\n",
            "Epoch    9/11 Batch 8/13 total loss: 99053.382812\n",
            "Epoch    9/11 Batch 9/13 total loss: 149988.093750\n",
            "Epoch    9/11 Batch 10/13 total loss: 164343.312500\n",
            "Epoch    9/11 Batch 11/13 total loss: 45004.562500\n",
            "Epoch    9/11 Batch 12/13 total loss: 56086.640625\n",
            "Epoch    9/11 Batch 13/13 total loss: 51840.519531\n",
            "Epoch   10/11 Batch 1/13 total loss: 109786.820312\n",
            "Epoch   10/11 Batch 2/13 total loss: 103469.898438\n",
            "Epoch   10/11 Batch 3/13 total loss: 77110.554688\n",
            "Epoch   10/11 Batch 4/13 total loss: 45337.558594\n",
            "Epoch   10/11 Batch 5/13 total loss: 91776.132812\n",
            "Epoch   10/11 Batch 6/13 total loss: 99540.359375\n",
            "Epoch   10/11 Batch 7/13 total loss: 68547.710938\n",
            "Epoch   10/11 Batch 8/13 total loss: 213788.312500\n",
            "Epoch   10/11 Batch 9/13 total loss: 97001.507812\n",
            "Epoch   10/11 Batch 10/13 total loss: 71736.015625\n",
            "Epoch   10/11 Batch 11/13 total loss: 72042.781250\n",
            "Epoch   10/11 Batch 12/13 total loss: 216258.890625\n",
            "Epoch   10/11 Batch 13/13 total loss: 127491.281250\n",
            "Epoch   11/11 Batch 1/13 total loss: 138506.828125\n",
            "Epoch   11/11 Batch 2/13 total loss: 101595.406250\n",
            "Epoch   11/11 Batch 3/13 total loss: 133504.656250\n",
            "Epoch   11/11 Batch 4/13 total loss: 44886.382812\n",
            "Epoch   11/11 Batch 5/13 total loss: 140981.734375\n",
            "Epoch   11/11 Batch 6/13 total loss: 45003.507812\n",
            "Epoch   11/11 Batch 7/13 total loss: 88782.015625\n",
            "Epoch   11/11 Batch 8/13 total loss: 211081.796875\n",
            "Epoch   11/11 Batch 9/13 total loss: 116966.039062\n",
            "Epoch   11/11 Batch 10/13 total loss: 131054.414062\n",
            "Epoch   11/11 Batch 11/13 total loss: 109789.796875\n",
            "Epoch   11/11 Batch 12/13 total loss: 57104.285156\n",
            "Epoch   11/11 Batch 13/13 total loss: 39514.691406\n"
          ]
        }
      ],
      "source": [
        "nb_epochs = 11\n",
        "for epoch in range(nb_epochs + 1):\n",
        "  model.train()\n",
        "  total_loss=0\n",
        "  for batch_idx, samples in (enumerate(dataloader)):\n",
        "    optimizer.zero_grad()\n",
        "  \n",
        "    x_train, y_train = samples\n",
        "    \n",
        "    x_train, y_train=x_train.to(device), y_train.to(device)\n",
        "  \n",
        "    prediction = model(x_train).permute(0, 2, 3, 1)     # y_train과 shape 동일화\n",
        "    cost = criterion(prediction, y_train)\n",
        "\n",
        "    cost.mean().backward()\n",
        "    optimizer.step()\n",
        "  \n",
        "    # print(cost)\n",
        "    print('Epoch {:4d}/{} Batch {}/{} total loss: {:.6f}'.format(\n",
        "        epoch, nb_epochs, batch_idx+1, len(dataloader),\n",
        "        cost.mean()\n",
        "        ))\n",
        "    total_loss+=cost.mean()\n",
        "    \n",
        "    del samples,x_train, y_train, prediction #system Ram 캐시 삭제\n",
        "\n",
        "  torch.cuda.empty_cache() # GPU 캐시 데이터 삭제\n",
        "\n",
        "  loss_lst.append(total_loss/lt)"
      ]
    },
    {
      "cell_type": "code",
      "execution_count": null,
      "metadata": {
        "id": "CAMFSB8DritV"
      },
      "outputs": [],
      "source": [
        "torch.save(model.state_dict(), 'saved_model_11epoch')"
      ]
    },
    {
      "cell_type": "code",
      "source": [
        "print(loss_lst)"
      ],
      "metadata": {
        "colab": {
          "base_uri": "https://localhost:8080/"
        },
        "id": "l2PJfu1rQ2HK",
        "outputId": "d18a5f71-2cdb-48c8-8885-63217857cf9b"
      },
      "execution_count": null,
      "outputs": [
        {
          "output_type": "stream",
          "name": "stdout",
          "text": [
            "[tensor(17308.1621, device='cuda:0', grad_fn=<DivBackward0>), tensor(16202.3623, device='cuda:0', grad_fn=<DivBackward0>), tensor(16008.7832, device='cuda:0', grad_fn=<DivBackward0>), tensor(15247.7686, device='cuda:0', grad_fn=<DivBackward0>), tensor(15043.4395, device='cuda:0', grad_fn=<DivBackward0>), tensor(14942.7783, device='cuda:0', grad_fn=<DivBackward0>), tensor(15916.7637, device='cuda:0', grad_fn=<DivBackward0>), tensor(13941.2148, device='cuda:0', grad_fn=<DivBackward0>), tensor(13490.4258, device='cuda:0', grad_fn=<DivBackward0>), tensor(13642.8857, device='cuda:0', grad_fn=<DivBackward0>), tensor(13938.8770, device='cuda:0', grad_fn=<DivBackward0>), tensor(13587.7148, device='cuda:0', grad_fn=<DivBackward0>)]\n"
          ]
        }
      ]
    },
    {
      "cell_type": "code",
      "source": [
        "import matplotlib.pyplot as plt\n",
        "\n",
        "# Move tensors to CPU and convert to NumPy arrays\n",
        "loss_np = np.array([x.cpu().detach().numpy() for x in loss_lst])\n",
        "\n",
        "# Plot the NumPy array\n",
        "plt.plot(loss_np, marker='*', color='r')\n",
        "plt.show()"
      ],
      "metadata": {
        "id": "GJ2OVxpGR-3D",
        "colab": {
          "base_uri": "https://localhost:8080/",
          "height": 265
        },
        "outputId": "df4b8751-1f44-4ca9-c15b-beb1687eac01"
      },
      "execution_count": null,
      "outputs": [
        {
          "output_type": "display_data",
          "data": {
            "text/plain": [
              "<Figure size 432x288 with 1 Axes>"
            ],
            "image/png": "[encoded data removed]"
          },
          "metadata": {
            "needs_background": "light"
          }
        }
      ]
    },
    {
      "cell_type": "code",
      "source": [
        "# img_label_folder_path=['/content/drive/MyDrive/Colab Notebooks/data/Get-distance-from-cam_data/image_2','/content/drive/MyDrive/Colab Notebooks/data/Get-distance-from-cam_data/label_2']\n",
        "# img_path=os.listdir('/content/drive/MyDrive/Colab Notebooks/data/Get-distance-from-cam_data/image_2/')\n",
        "# label_path=oas.listdir('/content/drive/MyDrive/Colab Notebooks/data/Get-distance-from-cam_data/label_2/')\n"
      ],
      "metadata": {
        "id": "ymdJqssq45ST"
      },
      "execution_count": null,
      "outputs": []
    },
    {
      "cell_type": "markdown",
      "source": [
        "#test"
      ],
      "metadata": {
        "id": "9Hybh9dpHVdl"
      }
    },
    {
      "cell_type": "code",
      "source": [
        "test_img=['000002.png']\n",
        "test_label=['000002.txt']"
      ],
      "metadata": {
        "id": "INDhKHJJDEy1"
      },
      "execution_count": null,
      "outputs": []
    },
    {
      "cell_type": "code",
      "source": [
        "img_label_folder_path"
      ],
      "metadata": {
        "colab": {
          "base_uri": "https://localhost:8080/"
        },
        "id": "2yvtZHJjHHx8",
        "outputId": "a4035e35-7e5f-413f-9db9-e179c94bb7df"
      },
      "execution_count": null,
      "outputs": [
        {
          "output_type": "execute_result",
          "data": {
            "text/plain": [
              "['/content/drive/MyDrive/Colab Notebooks/data/Get-distance-from-cam_data/image_2',\n",
              " '/content/drive/MyDrive/Colab Notebooks/data/Get-distance-from-cam_data/label_2']"
            ]
          },
          "metadata": {},
          "execution_count": 129
        }
      ]
    },
    {
      "cell_type": "code",
      "source": [
        "testset=CustomDataset(img_label_folder_path,test_img,test_label)\n",
        "testloader = DataLoader(testset, batch_size=1)"
      ],
      "metadata": {
        "id": "TmTs8BplDc3S"
      },
      "execution_count": null,
      "outputs": []
    },
    {
      "cell_type": "code",
      "source": [
        "testloader"
      ],
      "metadata": {
        "colab": {
          "base_uri": "https://localhost:8080/"
        },
        "id": "-3UdpTGWDwcy",
        "outputId": "52d18b61-4e9c-4589-8b3c-5f34db03dd45"
      },
      "execution_count": null,
      "outputs": [
        {
          "output_type": "execute_result",
          "data": {
            "text/plain": [
              "<torch.utils.data.dataloader.DataLoader at 0x7efd70d0f5e0>"
            ]
          },
          "metadata": {},
          "execution_count": 131
        }
      ]
    },
    {
      "cell_type": "code",
      "source": [
        "model.eval()\n",
        "\n",
        "for _,test_samples in enumerate(testloader):\n",
        "  test_x,test_y=test_samples\n",
        "  \n",
        "  test_pred=model(test_x).permute(0, 2, 3, 1)\n",
        "  print(test_pred.shape)\n",
        "\n",
        "YOLO_output=test_pred[0].cpu().detach().numpy()\n",
        "print(YOLO_output.shape)"
      ],
      "metadata": {
        "colab": {
          "base_uri": "https://localhost:8080/"
        },
        "id": "qRTR76SLDlnu",
        "outputId": "c3574a4f-8233-4282-f700-484ca1e799ea"
      },
      "execution_count": null,
      "outputs": [
        {
          "output_type": "stream",
          "name": "stdout",
          "text": [
            "torch.Size([1, 13, 13, 34])\n",
            "(13, 13, 34)\n"
          ]
        }
      ]
    },
    {
      "cell_type": "code",
      "source": [
        "bbox_list = []"
      ],
      "metadata": {
        "id": "HMOawFAHDMzG"
      },
      "execution_count": null,
      "outputs": []
    },
    {
      "cell_type": "code",
      "source": [
        " #pred per grid cell = [class],  [box c score][box(x,y,w,h)] ... ,[box5 c score], [box5] , [distance]  = 8+5*5+1=34"
      ],
      "metadata": {
        "id": "DwJ74OF4Pc93"
      },
      "execution_count": null,
      "outputs": []
    },
    {
      "cell_type": "code",
      "source": [
        "ClassesinDataSet=['Car', 'Van', 'Truck','Pedestrian', 'Person_sitting', 'Cyclist', 'Tram','Misc']"
      ],
      "metadata": {
        "id": "i3oacFWhRyNU"
      },
      "execution_count": null,
      "outputs": []
    },
    {
      "cell_type": "code",
      "source": [
        "def process_bbox(x, y, bbox, classes_score, Classes_inDataSet,dist) : \n",
        "    # # size 처리\n",
        "    bbox_x = bbox[0]\n",
        "    bbox_y = bbox[1]\n",
        "    bbox_w = bbox[2]\n",
        "    bbox_h = bbox[3]\n",
        "    \n",
        "    min_x = int(bbox_x - bbox_w/2)\n",
        "    min_y = int(bbox_y - bbox_h/2)\n",
        "    max_x = int(bbox_x + bbox_w/2)\n",
        "    max_y = int(bbox_y + bbox_h/2)\n",
        "    \n",
        "    idx_class_highest_score = np.argmax(classes_score)\n",
        "    class_highest_score = classes_score[idx_class_highest_score] # 가장 높은 class score\n",
        "    class_highest_score_name = Classes_inDataSet[idx_class_highest_score] # 가장 높은 score를 가진 class의 이름\n",
        "    \n",
        "    output_bbox = [min_x, min_y, max_x, max_y, class_highest_score, class_highest_score_name,dist]\n",
        "\n",
        "    return output_bbox # [x, y, w, h, class_highest_score, class_highest_score_name,dist]로 구성된 list출력\n",
        "    "
      ],
      "metadata": {
        "id": "fxCC6zozSHKa"
      },
      "execution_count": null,
      "outputs": []
    },
    {
      "cell_type": "code",
      "source": [],
      "metadata": {
        "id": "LYDpNAITUy4J"
      },
      "execution_count": null,
      "outputs": []
    },
    {
      "cell_type": "code",
      "source": [
        "for y in range(0, 13) :\n",
        "  for x in range(0, 13) :\n",
        "    # bbox에 있는 20개의 클래스 스코어\n",
        "    bbox1_class_score = YOLO_output[y][x][:8] * YOLO_output[y][x][8]      #class * conf\n",
        "    bbox2_class_score = YOLO_output[y][x][:8] * YOLO_output[y][x][13]\n",
        "    bbox3_class_score = YOLO_output[y][x][:8] * YOLO_output[y][x][18]      #class * conf\n",
        "    bbox4_class_score = YOLO_output[y][x][:8] * YOLO_output[y][x][23]\n",
        "    bbox5_class_score = YOLO_output[y][x][:8] * YOLO_output[y][x][28]\n",
        "        \n",
        "    # bbox의 사이즈\n",
        "    bbox1 = YOLO_output[y][x][9:13]\n",
        "    bbox2 = YOLO_output[y][x][14:18]\n",
        "    bbox3 = YOLO_output[y][x][19:23]\n",
        "    bbox4 = YOLO_output[y][x][24:28]\n",
        "    bbox5 = YOLO_output[y][x][29:33]\n",
        "    dist= YOLO_output[y][x][33] \n",
        "    # 24 -> 6(box info + 가장 높게 나온 클래스 prob + 가장 높게 나온 클래스의 idx)개로 처리\n",
        "    # opencv는 min_x, min_y, max_x, max_y를 원하니 x, y, w, h를 min, max 좌표로 변환\n",
        "    process_bbox1 = process_bbox(x, y, bbox1,  bbox1_class_score, ClassesinDataSet,dist)\n",
        "    process_bbox2 = process_bbox(x, y, bbox2,  bbox2_class_score, ClassesinDataSet,dist)\n",
        "    process_bbox3 = process_bbox(x, y, bbox3,  bbox3_class_score, ClassesinDataSet,dist)\n",
        "    process_bbox4 = process_bbox(x, y, bbox4,  bbox4_class_score, ClassesinDataSet,dist)\n",
        "    process_bbox5 = process_bbox(x, y, bbox5,  bbox5_class_score, ClassesinDataSet,dist)\n",
        "            \n",
        "    bbox_list.append(process_bbox1)\n",
        "    bbox_list.append(process_bbox2)\n",
        "    bbox_list.append(process_bbox3)\n",
        "    bbox_list.append(process_bbox4)\n",
        "    bbox_list.append(process_bbox5)"
      ],
      "metadata": {
        "id": "Bb5SlFfyDMwz"
      },
      "execution_count": null,
      "outputs": []
    },
    {
      "cell_type": "code",
      "source": [
        "def nms(bbox_list) : \n",
        "    nms_bbox_list = []\n",
        "    for i in range(0, len(bbox_list)) :\n",
        "        \n",
        "        if bbox_list[i][4] > 0.02 : # class score가 0.2넘기는 것만 출력하기\n",
        "            nms_bbox_list.append(bbox_list[i])\n",
        "    \n",
        "    return nms_bbox_list"
      ],
      "metadata": {
        "id": "NWZGi64fUx9i"
      },
      "execution_count": null,
      "outputs": []
    },
    {
      "cell_type": "code",
      "source": [
        "nms_lst=nms(bbox_list)\n",
        "# bbox_list[1]"
      ],
      "metadata": {
        "id": "8bQTMKXsDMrr"
      },
      "execution_count": null,
      "outputs": []
    },
    {
      "cell_type": "code",
      "source": [
        "nms_lst"
      ],
      "metadata": {
        "colab": {
          "base_uri": "https://localhost:8080/"
        },
        "id": "65IfiH1AU9cT",
        "outputId": "6f0246a3-f5e8-49ef-bfcc-138a86dd7de8"
      },
      "execution_count": null,
      "outputs": [
        {
          "output_type": "execute_result",
          "data": {
            "text/plain": [
              "[[0, 0, 0, 0, 0.021676721, 'Car', 0.40258572],\n",
              " [0, 0, 0, 0, 0.026298473, 'Car', 1.3817229],\n",
              " [0, 0, 0, 0, 0.028836539, 'Pedestrian', 1.4765916],\n",
              " [0, 0, 0, 0, 0.022009876, 'Pedestrian', 0.4069754],\n",
              " [0, 0, 0, 0, 0.020092504, 'Truck', 1.7388742],\n",
              " [0, 0, 0, 0, 0.02481018, 'Car', 1.7388742],\n",
              " [0, 0, 0, 0, 0.02542309, 'Truck', 1.7388742],\n",
              " [0, 0, 0, 0, 0.02558349, 'Truck', 1.7388742],\n",
              " [0, 0, 0, 0, 0.022030314, 'Tram', 0.6396594],\n",
              " [0, 0, 0, 0, 0.024811545, 'Pedestrian', 0.6396594],\n",
              " [0, 0, 0, 0, 0.026675856, 'Van', 0.16935173],\n",
              " [0, 0, 0, 0, 0.027348408, 'Truck', 1.6723503],\n",
              " [0, 0, 0, 0, 0.030511709, 'Truck', -5.1706614],\n",
              " [0, 0, 0, 0, 0.025929585, 'Truck', -4.818385],\n",
              " [0, 0, 0, 0, 0.022086272, 'Truck', -15.510173],\n",
              " [0, 0, 0, 0, 0.022911036, 'Truck', -45.022003],\n",
              " [0, 0, 0, 0, 0.032975603, 'Misc', -49.20424],\n",
              " [0, 0, 0, 0, 0.021132736, 'Truck', -33.097473],\n",
              " [0, 0, 0, 0, 0.023146775, 'Truck', -33.097473],\n",
              " [0, 0, 0, 0, 0.028175721, 'Car', 0.7941868],\n",
              " [0, 0, 0, 0, 0.023908705, 'Pedestrian', 0.9658003],\n",
              " [0, 0, 0, 0, 0.021259865, 'Car', 0.8536891]]"
            ]
          },
          "metadata": {},
          "execution_count": 140
        }
      ]
    },
    {
      "cell_type": "code",
      "source": [
        "# bbox_list"
      ],
      "metadata": {
        "id": "nrf_3NmSVckL"
      },
      "execution_count": null,
      "outputs": []
    },
    {
      "cell_type": "code",
      "source": [
        "  import matplotlib.pyplot as plt\n",
        "  plt.figure()\n",
        "  plt.imshow(test_x[0].permute(1,2,0).cpu().detach().numpy())\n",
        "  plt.show()"
      ],
      "metadata": {
        "colab": {
          "base_uri": "https://localhost:8080/",
          "height": 269
        },
        "id": "6qQdkbL1T5PV",
        "outputId": "ab4f2ece-f090-4398-a979-eb5210013df3"
      },
      "execution_count": null,
      "outputs": [
        {
          "output_type": "display_data",
          "data": {
            "text/plain": [
              "<Figure size 432x288 with 1 Axes>"
            ],
            "image/png": "[encoded data removed]"
          },
          "metadata": {
            "needs_background": "light"
          }
        }
      ]
    },
    {
      "cell_type": "code",
      "source": [],
      "metadata": {
        "id": "R39srnJqVaVH"
      },
      "execution_count": null,
      "outputs": []
    }
  ],
  "metadata": {
    "kernelspec": {
      "display_name": "Python 3.7.7 ('torch_env')",
      "language": "python",
      "name": "python3"
    },
    "language_info": {
      "codemirror_mode": {
        "name": "ipython",
        "version": 3
      },
      "file_extension": ".py",
      "mimetype": "text/x-python",
      "name": "python",
      "nbconvert_exporter": "python",
      "pygments_lexer": "ipython3",
      "version": "3.7.7"
    },
    "orig_nbformat": 4,
    "vscode": {
      "interpreter": {
        "hash": "c6a70fdd13816683185290439b396d538f500f56ba4ecc2320a0dd2f0d19ebb0"
      }
    },
    "colab": {
      "provenance": [],
      "toc_visible": true,
      "include_colab_link": true
    },
    "gpuClass": "standard",
    "accelerator": "GPU"
  },
  "nbformat": 4,
  "nbformat_minor": 0
}