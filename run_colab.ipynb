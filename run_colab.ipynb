{
  "cells": [
    {
      "cell_type": "markdown",
      "metadata": {
        "id": "view-in-github",
        "colab_type": "text"
      },
      "source": [
        "<a href=\"https://colab.research.google.com/github/LeeTaeHoon97/Get-distance-from-cam/blob/main/run_colab.ipynb\" target=\"_parent\"><img src=\"https://colab.research.google.com/assets/colab-badge.svg\" alt=\"Open In Colab\"/></a>"
      ]
    },
    {
      "cell_type": "markdown",
      "source": [
        "<!-- colab part -->"
      ],
      "metadata": {
        "id": "S_F3oRtKryQ1"
      }
    },
    {
      "cell_type": "code",
      "source": [
        "# var rpt = setInterval(()=>{document.querySelector(\"#top-toolbar > colab-connect-button\").shadowRoot.querySelector(\"#connect\").click();console.log(new Date);}, 600000);"
      ],
      "metadata": {
        "id": "W9q1G-GtuGjV"
      },
      "execution_count": 1,
      "outputs": []
    },
    {
      "cell_type": "code",
      "source": [
        "\t\n",
        "# clearInterval(rpt);"
      ],
      "metadata": {
        "id": "tPEvz7BMuKk7"
      },
      "execution_count": 2,
      "outputs": []
    },
    {
      "cell_type": "code",
      "source": [
        "!nvidia-smi"
      ],
      "metadata": {
        "colab": {
          "base_uri": "https://localhost:8080/"
        },
        "id": "RYLCQofJrx4M",
        "outputId": "918e392d-4303-4fd9-c6ed-01131947dad6"
      },
      "execution_count": 3,
      "outputs": [
        {
          "output_type": "stream",
          "name": "stdout",
          "text": [
            "Fri Mar 17 04:51:03 2023       \n",
            "+-----------------------------------------------------------------------------+\n",
            "| NVIDIA-SMI 525.85.12    Driver Version: 525.85.12    CUDA Version: 12.0     |\n",
            "|-------------------------------+----------------------+----------------------+\n",
            "| GPU  Name        Persistence-M| Bus-Id        Disp.A | Volatile Uncorr. ECC |\n",
            "| Fan  Temp  Perf  Pwr:Usage/Cap|         Memory-Usage | GPU-Util  Compute M. |\n",
            "|                               |                      |               MIG M. |\n",
            "|===============================+======================+======================|\n",
            "|   0  Tesla T4            Off  | 00000000:00:04.0 Off |                    0 |\n",
            "| N/A   67C    P0    29W /  70W |      0MiB / 15360MiB |      0%      Default |\n",
            "|                               |                      |                  N/A |\n",
            "+-------------------------------+----------------------+----------------------+\n",
            "                                                                               \n",
            "+-----------------------------------------------------------------------------+\n",
            "| Processes:                                                                  |\n",
            "|  GPU   GI   CI        PID   Type   Process name                  GPU Memory |\n",
            "|        ID   ID                                                   Usage      |\n",
            "|=============================================================================|\n",
            "|  No running processes found                                                 |\n",
            "+-----------------------------------------------------------------------------+\n"
          ]
        }
      ]
    },
    {
      "cell_type": "code",
      "source": [
        "# from google.colab import drive\n",
        "# drive.mount('/content/drive')"
      ],
      "metadata": {
        "id": "z2Ge_0dcsbuI"
      },
      "execution_count": 4,
      "outputs": []
    },
    {
      "cell_type": "code",
      "source": [
        "# %cd \"/content/drive/MyDrive/Colab Notebooks/data/Get-distance-from-cam_data\"\n",
        "\n",
        "# !unzip -qq \"/content/drive/MyDrive/Colab Notebooks/data/Get-distance-from-cam_data/training_data.zip\""
      ],
      "metadata": {
        "id": "GZyPbHHkMPst"
      },
      "execution_count": 5,
      "outputs": []
    },
    {
      "cell_type": "code",
      "source": [
        "# !unzip -qq \"/content/drive/MyDrive/Colab Notebooks/data/Get-distance-from-cam_data/training_label.zip\""
      ],
      "metadata": {
        "id": "m-fNaCwbziAh"
      },
      "execution_count": 6,
      "outputs": []
    },
    {
      "cell_type": "code",
      "source": [],
      "metadata": {
        "id": "bJ6aW4O9z9b1"
      },
      "execution_count": 6,
      "outputs": []
    },
    {
      "cell_type": "code",
      "source": [
        "cd \"/content/drive/MyDrive/github/Get-distance-from-cam\""
      ],
      "metadata": {
        "colab": {
          "base_uri": "https://localhost:8080/"
        },
        "id": "g_g0I4E5swgu",
        "outputId": "204cc343-420b-4f5d-9e4c-1d9c5c034b21"
      },
      "execution_count": 7,
      "outputs": [
        {
          "output_type": "stream",
          "name": "stdout",
          "text": [
            "/content/drive/MyDrive/github/Get-distance-from-cam\n"
          ]
        }
      ]
    },
    {
      "cell_type": "code",
      "source": [
        "# !pip install cv"
      ],
      "metadata": {
        "id": "4K3wIcfgPSYm"
      },
      "execution_count": 8,
      "outputs": []
    },
    {
      "cell_type": "markdown",
      "source": [],
      "metadata": {
        "id": "XKMr3qXFzGZ4"
      }
    },
    {
      "cell_type": "code",
      "source": [],
      "metadata": {
        "id": "dX-kr9VnzG83"
      },
      "execution_count": 8,
      "outputs": []
    },
    {
      "cell_type": "markdown",
      "source": [
        "### code start"
      ],
      "metadata": {
        "id": "aMqXiAQsr0u9"
      }
    },
    {
      "cell_type": "code",
      "execution_count": 9,
      "metadata": {
        "id": "j5U73FIFritJ"
      },
      "outputs": [],
      "source": [
        "import torch\n",
        "import torch.nn as nn\n",
        "import torch.nn.functional as F\n",
        "import numpy as np\n",
        "import pandas as pd\n",
        "from sklearn.preprocessing import OneHotEncoder\n",
        "import numpy as np\n",
        "from tqdm import tqdm\n",
        "import cv2\n",
        "import os\n",
        "\n",
        "from model import Yolo\n",
        "from loss import YoloLoss"
      ]
    },
    {
      "cell_type": "code",
      "execution_count": 10,
      "metadata": {
        "colab": {
          "base_uri": "https://localhost:8080/"
        },
        "id": "xAhBghC9ritN",
        "outputId": "6e08fc43-a02f-4fe4-e39f-6dc142fcb08a"
      },
      "outputs": [
        {
          "output_type": "stream",
          "name": "stdout",
          "text": [
            "Image size: 1224 x 370\n"
          ]
        }
      ],
      "source": [
        "from PIL import Image\n",
        "\n",
        "# Open the image file\n",
        "with Image.open('/content/drive/MyDrive/Colab Notebooks/data/Get-distance-from-cam_data/image_2/000000.png') as img:\n",
        "    # Get the width and height of the image\n",
        "    Image_Width, Image_Height = img.size\n",
        "    print(f\"Image size: {Image_Width} x {Image_Height}\")\n",
        "\n",
        "\n",
        "#kitti dataset의 실제크기, resize를 위해 파악"
      ]
    },
    {
      "cell_type": "code",
      "execution_count": 11,
      "metadata": {
        "colab": {
          "base_uri": "https://localhost:8080/",
          "height": 54
        },
        "id": "GApJegcgritN",
        "outputId": "00d0a5cd-07f0-48fb-9fa1-684a5d14da42"
      },
      "outputs": [
        {
          "output_type": "stream",
          "name": "stdout",
          "text": [
            "1\n"
          ]
        },
        {
          "output_type": "execute_result",
          "data": {
            "text/plain": [
              "'cuda'"
            ],
            "application/vnd.google.colaboratory.intrinsic+json": {
              "type": "string"
            }
          },
          "metadata": {},
          "execution_count": 11
        }
      ],
      "source": [
        "\n",
        "torch.cuda.is_available() \n",
        "print(torch.cuda.device_count())\n",
        "\n",
        "device = 'cuda' if torch.cuda.is_available() else 'cpu'\n",
        "device"
      ]
    },
    {
      "cell_type": "markdown",
      "metadata": {
        "id": "C5eB22oNritO"
      },
      "source": [
        "### 라벨 전처리"
      ]
    },
    {
      "cell_type": "code",
      "execution_count": 12,
      "metadata": {
        "id": "2UuM8503ritP"
      },
      "outputs": [],
      "source": [
        "# [class],[Pc = confidence score],[x], [y], [w], [h],[distance] = 0~7 c x y w h dist\n"
      ]
    },
    {
      "cell_type": "code",
      "execution_count": 13,
      "metadata": {
        "id": "oeFaC3LTritQ"
      },
      "outputs": [],
      "source": [
        "# column_names=['class','truncated','occluded','alpha','x1','y1','x2','y2','dimensions_h','dimensions_w','dimensions_len','location_x','location_y','distance','rotation_y']\n",
        "# one_hot_labeling={'Car':0, 'Van':1, 'Truck':2,'Pedestrian':3, 'Person_sitting':4, 'Cyclist':5, 'Tram':6,'Misc':7, 'DontCare':7}        #Misc and DontCare is same value\n",
        "\n",
        "\n",
        "# import os\n",
        "\n",
        "# folder_path = \"dataset/training/label_2\"\n",
        "\n",
        "# #txt파일 단위로 불러옴\n",
        "# for filename in tqdm(os.listdir(folder_path)):\n",
        "#     temp=pd.read_csv(folder_path+'/'+filename,delimiter=' ',names=column_names)\n",
        "#     temp=temp.drop(columns=['truncated','occluded','alpha','dimensions_h','dimensions_w','dimensions_len','location_x','location_y','rotation_y'])\n",
        "\n",
        "#     #class one hot vector로 변환\n",
        "#     temp['class'] = np.array(list(map(lambda x:one_hot_labeling[x],list(temp['class'])))).reshape(-1, 1)\n",
        "\n",
        " \n",
        "\n",
        "#     temp\n",
        "\n",
        "#     # 좌표 resize 416* 416\n",
        "#     temp['x1'] = ((416.0/Image_Width)*temp['x1'])\n",
        "#     temp['y1'] = ((416.0/Image_Height)*temp['y1'])\n",
        "#     temp['x2'] = ((416.0/Image_Width)*temp['x2'])\n",
        "#     temp['y2'] = ((416.0/Image_Height)*temp['y2'])\n",
        "\n",
        "#     # x y w h 형식으로 bbox 변환 (여기서 x y는 중심좌표,)   \n",
        "#     center_x=(temp['x1'] + temp['x2'])/2.0\n",
        "#     center_y=(temp['y1'] + temp['y2'])/2.0\n",
        "#     w=temp['x2'] - temp['x1']\n",
        "#     h=temp['y2'] - temp['y1']\n",
        "#     temp['x1'] = center_x\n",
        "#     temp['y1'] = center_y\n",
        "#     temp['x2'] = w\n",
        "#     temp['y2'] = h\n",
        "\n",
        "#     temp.rename(columns = {'x1' : 'x','y1' : 'y','x2' : 'w','y2' : 'h'}, inplace = True)\n",
        "\n",
        "#     #txt형태로 파일 덮어쓰기 \n",
        "#     temp.to_csv(folder_path+'/'+filename,sep=' ',index = False , header=None)\n",
        "\n",
        "\n",
        "# # # #이후 데이터셋에서 텐서로 바꿀때 index 8에 c score 자리 만들기\n"
      ]
    },
    {
      "cell_type": "code",
      "execution_count": 14,
      "metadata": {
        "id": "0c-exM-qritR",
        "outputId": "698d8371-4014-41c9-c4e3-baddabcdd756",
        "colab": {
          "base_uri": "https://localhost:8080/"
        }
      },
      "outputs": [
        {
          "output_type": "execute_result",
          "data": {
            "text/plain": [
              "13"
            ]
          },
          "metadata": {},
          "execution_count": 14
        }
      ],
      "source": [
        "int(416/32)\n"
      ]
    },
    {
      "cell_type": "markdown",
      "metadata": {
        "id": "GISmeXV1ritR"
      },
      "source": [
        "### custom dataset"
      ]
    },
    {
      "cell_type": "code",
      "execution_count": 15,
      "metadata": {
        "id": "T1bHaDNeritS"
      },
      "outputs": [],
      "source": [
        "class CustomDataset(torch.utils.data.Dataset):\n",
        "    # S= grid cell, B= num of anchors, C = num of classes\n",
        "    def __init__(self, folder_dir, img_dir, label_dir, S=13, B=5, C=8, transform=None):         \n",
        "        self.img_folder=folder_dir[0]\n",
        "        self.label_folder=folder_dir[1]\n",
        "        self.img_path=img_dir\n",
        "        self.label_path=label_dir\n",
        "        \n",
        "        self.S=S\n",
        "        self.B=B\n",
        "        self.C=C\n",
        "        self.transform=transform\n",
        "        \n",
        "    def __len__(self):\n",
        "        return len(self.img_path)\n",
        "        \n",
        "\n",
        "    def __getitem__(self, idx):\n",
        "        \n",
        "        #image 전처리\n",
        "        \n",
        "        image_filepath = self.img_folder+'/'+self.img_path[idx]\n",
        "        # print(image_filepath)\n",
        "        image = cv2.imread(image_filepath)\n",
        "        image = cv2.cvtColor(image, cv2.COLOR_BGR2RGB)\n",
        "        image = cv2.resize(image, (416, 416))\n",
        "        image=image.transpose(2,0,1)\n",
        "        image=torch.from_numpy(image).float().div(255.0)\n",
        "        image.requires_grad=True\n",
        "        #label 추가 전처리\n",
        "\n",
        "        bboxes=np.loadtxt(self.label_folder+'/'+self.label_path[idx]).tolist()\n",
        "\n",
        "        label_matrix = torch.zeros((self.S, self.S, self.C+6 )) # 13*13*14(class(8) + c_score x y w h distance)\n",
        "        \n",
        "        try:\n",
        "            for bbox in bboxes:\n",
        "                # print(bbox)\n",
        "                class_label=int(bbox[0]) \n",
        "                x, y=bbox[1],bbox[2]\n",
        "                width, height= bbox[3],bbox[4]\n",
        "                distance= bbox[5]\n",
        "\n",
        "                # x, y의 위치 grid cell 파악하기\n",
        "                x_cell = int(x/32) # 0~12\n",
        "                y_cell = int(y/32) # 0~12\n",
        "                x_val_inCell = float((x - x_cell * 32.0)/32.0) # 0.0 ~ 1.0\n",
        "                y_val_inCell = float((y - y_cell * 32.0)/32.0) # 0.0 ~ 1.0\n",
        "\n",
        "                # w, h 를 0~1 사이의 값으로 만들기\n",
        "                w = width / 416.0\n",
        "                h = height / 416.0\n",
        "\n",
        "\n",
        "\n",
        "                label_matrix[y_cell, x_cell, 8] = 1.0                                       #c_score 8 in pred\n",
        "                label_matrix[y_cell, x_cell, class_label] = 1.0     #idx 0~7\n",
        "                label_matrix[y_cell, x_cell, 9] = x_val_inCell                              #bbox 9~12\n",
        "                label_matrix[y_cell, x_cell, 10] = y_val_inCell\n",
        "                label_matrix[y_cell, x_cell, 11] = w\n",
        "                label_matrix[y_cell, x_cell, 12] = h\n",
        "                label_matrix[y_cell, x_cell, 13] = distance                                 #distance 13\n",
        "                \n",
        "                \n",
        "        # single label\n",
        "        except TypeError as e:\n",
        "  \n",
        "            bbox=bboxes\n",
        "            class_label=int(bbox[0])\n",
        "            x, y=bbox[1],bbox[2]\n",
        "            width, height= bbox[3],bbox[4]\n",
        "            distance= bbox[5]\n",
        "\n",
        "            # x, y의 위치 grid cell 파악하기\n",
        "            x_cell = int(x/32) # 0~12\n",
        "            y_cell = int(y/32) # 0~12\n",
        "            x_val_inCell = float((x - x_cell * 32.0)/32.0) # 0.0 ~ 1.0\n",
        "            y_val_inCell = float((y - y_cell * 32.0)/32.0) # 0.0 ~ 1.0\n",
        "\n",
        "            # w, h 를 0~1 사이의 값으로 만들기\n",
        "            w = width / 416.0\n",
        "            h = height / 416.0\n",
        "\n",
        "            label_matrix[y_cell, x_cell, 8] = 1.0                                       #c_score 8\n",
        "            label_matrix[y_cell, x_cell, class_label] = 1.0     #idx 0~7\n",
        "            label_matrix[y_cell, x_cell, 9] = x_val_inCell                              #bbox 9~12\n",
        "            label_matrix[y_cell, x_cell, 10] = y_val_inCell\n",
        "            label_matrix[y_cell, x_cell, 11] = w\n",
        "            label_matrix[y_cell, x_cell, 12] = h\n",
        "            label_matrix[y_cell, x_cell, 13] = distance                                 #distance 13\n",
        "         \n",
        "        return image.to(device), label_matrix.to(device)"
      ]
    },
    {
      "cell_type": "code",
      "execution_count": 16,
      "metadata": {
        "id": "5whPla7oritS"
      },
      "outputs": [],
      "source": [
        "img_label_folder_path=['/content/drive/MyDrive/Colab Notebooks/data/Get-distance-from-cam_data/image_2','/content/drive/MyDrive/Colab Notebooks/data/Get-distance-from-cam_data/label_2']\n",
        "img_path=os.listdir('/content/drive/MyDrive/Colab Notebooks/data/Get-distance-from-cam_data/image_2/')\n",
        "label_path=os.listdir('/content/drive/MyDrive/Colab Notebooks/data/Get-distance-from-cam_data/label_2/')\n"
      ]
    },
    {
      "cell_type": "code",
      "source": [
        "img_path=(img_path[:32*7])\n",
        "label_path=(label_path[:32*7])\n",
        "len(label_path)\n",
        "len(img_path)\n"
      ],
      "metadata": {
        "colab": {
          "base_uri": "https://localhost:8080/"
        },
        "id": "3CFLuZEJy6zv",
        "outputId": "9b59ea5a-7113-445a-dc8d-90104da1d510"
      },
      "execution_count": 17,
      "outputs": [
        {
          "output_type": "execute_result",
          "data": {
            "text/plain": [
              "224"
            ]
          },
          "metadata": {},
          "execution_count": 17
        }
      ]
    },
    {
      "cell_type": "code",
      "source": [
        "dset=CustomDataset(img_label_folder_path,img_path,label_path)"
      ],
      "metadata": {
        "id": "VT0wcBCx0UWO"
      },
      "execution_count": 18,
      "outputs": []
    },
    {
      "cell_type": "code",
      "execution_count": 19,
      "metadata": {
        "id": "A9G7Y_GCritT"
      },
      "outputs": [],
      "source": [
        "from torch.utils.data import DataLoader\n",
        "dataloader = DataLoader(dset, batch_size=32, shuffle=True)"
      ]
    },
    {
      "cell_type": "code",
      "execution_count": 20,
      "metadata": {
        "id": "8hYxt1XVritT"
      },
      "outputs": [],
      "source": [
        "\n",
        "# for batch_idx, samples in tqdm(enumerate(dataloader)):\n",
        "#     _,l=samples\n",
        "#     # print(l[-1][0])\n",
        "#     break"
      ]
    },
    {
      "cell_type": "code",
      "execution_count": 21,
      "metadata": {
        "id": "TdypBmkyritT"
      },
      "outputs": [],
      "source": [
        "# import matplotlib.pyplot as plt\n",
        "\n",
        "# for batch_idx, (inputs, labels) in enumerate(dataloader):\n",
        "#     print(labels.shape)\n",
        "\n",
        "#     inputs= inputs[0]\n",
        "#     inputs=inputs.to(device)\n",
        "#     inputs = inputs.permute(1,2,0)\n",
        "#     print(inputs.shape)\n",
        "#     plt.figure()\n",
        "#     plt.imshow(inputs.cpu().detach().numpy())\n",
        "#     plt.show()\n",
        "#     break"
      ]
    },
    {
      "cell_type": "markdown",
      "metadata": {
        "id": "cmblLnBUritU"
      },
      "source": [
        "### model training"
      ]
    },
    {
      "cell_type": "code",
      "execution_count": 22,
      "metadata": {
        "id": "TSiostmyritU"
      },
      "outputs": [],
      "source": [
        "model = Yolo(8).to(device)\n",
        "optimizer = torch.optim.SGD(model.parameters(), lr=0.00001) \n",
        "criterion=YoloLoss()\n"
      ]
    },
    {
      "cell_type": "code",
      "execution_count": 23,
      "metadata": {
        "id": "Ex-2-RQHritU"
      },
      "outputs": [],
      "source": [
        "# criterion(prediction, y_train)"
      ]
    },
    {
      "cell_type": "code",
      "execution_count": 24,
      "metadata": {
        "id": "J3YuHGghritU"
      },
      "outputs": [],
      "source": [
        "loss_lst=[]\n",
        "lt = len(dset)"
      ]
    },
    {
      "cell_type": "code",
      "source": [
        "# model"
      ],
      "metadata": {
        "id": "T9JklfW_TWar"
      },
      "execution_count": 25,
      "outputs": []
    },
    {
      "cell_type": "code",
      "execution_count": 26,
      "metadata": {
        "id": "ewg6z0BUritU",
        "outputId": "37b4faa6-e204-4219-eb8c-5e55f43b83f5",
        "colab": {
          "base_uri": "https://localhost:8080/"
        }
      },
      "outputs": [
        {
          "output_type": "stream",
          "name": "stdout",
          "text": [
            "Epoch    0/5 Batch 1/7 total loss: 489728.625000\n",
            "Epoch    0/5 Batch 2/7 total loss: 520845.531250\n",
            "Epoch    0/5 Batch 3/7 total loss: 456638.406250\n",
            "Epoch    0/5 Batch 4/7 total loss: 722480.687500\n",
            "Epoch    0/5 Batch 5/7 total loss: 416913.906250\n",
            "Epoch    0/5 Batch 6/7 total loss: 646251.937500\n",
            "Epoch    0/5 Batch 7/7 total loss: 511920.968750\n",
            "Epoch    1/5 Batch 1/7 total loss: 521050.531250\n",
            "Epoch    1/5 Batch 2/7 total loss: 549160.250000\n",
            "Epoch    1/5 Batch 3/7 total loss: 664384.937500\n",
            "Epoch    1/5 Batch 4/7 total loss: 691448.250000\n",
            "Epoch    1/5 Batch 5/7 total loss: 506563.218750\n",
            "Epoch    1/5 Batch 6/7 total loss: 437558.218750\n",
            "Epoch    1/5 Batch 7/7 total loss: 376782.125000\n",
            "Epoch    2/5 Batch 1/7 total loss: 491744.843750\n",
            "Epoch    2/5 Batch 2/7 total loss: 514758.906250\n",
            "Epoch    2/5 Batch 3/7 total loss: 366159.656250\n",
            "Epoch    2/5 Batch 4/7 total loss: 691219.312500\n",
            "Epoch    2/5 Batch 5/7 total loss: 518613.843750\n",
            "Epoch    2/5 Batch 6/7 total loss: 613553.312500\n",
            "Epoch    2/5 Batch 7/7 total loss: 452814.031250\n",
            "Epoch    3/5 Batch 1/7 total loss: 579077.187500\n",
            "Epoch    3/5 Batch 2/7 total loss: 1003564.875000\n",
            "Epoch    3/5 Batch 3/7 total loss: 435447.187500\n",
            "Epoch    3/5 Batch 4/7 total loss: 359006.593750\n",
            "Epoch    3/5 Batch 5/7 total loss: 517564.406250\n",
            "Epoch    3/5 Batch 6/7 total loss: 331239.781250\n",
            "Epoch    3/5 Batch 7/7 total loss: 609717.500000\n",
            "Epoch    4/5 Batch 1/7 total loss: 398332.937500\n",
            "Epoch    4/5 Batch 2/7 total loss: 594978.750000\n",
            "Epoch    4/5 Batch 3/7 total loss: 482287.781250\n",
            "Epoch    4/5 Batch 4/7 total loss: 723162.062500\n",
            "Epoch    4/5 Batch 5/7 total loss: 592069.937500\n",
            "Epoch    4/5 Batch 6/7 total loss: 541108.500000\n",
            "Epoch    4/5 Batch 7/7 total loss: 430752.843750\n",
            "Epoch    5/5 Batch 1/7 total loss: 533419.750000\n",
            "Epoch    5/5 Batch 2/7 total loss: 508398.687500\n",
            "Epoch    5/5 Batch 3/7 total loss: 539005.250000\n",
            "Epoch    5/5 Batch 4/7 total loss: 489564.218750\n",
            "Epoch    5/5 Batch 5/7 total loss: 553603.500000\n",
            "Epoch    5/5 Batch 6/7 total loss: 494984.062500\n",
            "Epoch    5/5 Batch 7/7 total loss: 566002.062500\n"
          ]
        }
      ],
      "source": [
        "nb_epochs = 5\n",
        "for epoch in range(nb_epochs + 1):\n",
        "  model.train()\n",
        "  total_loss=0\n",
        "  for batch_idx, samples in (enumerate(dataloader)):\n",
        "    # print(batch_idx)\n",
        "    # print(samples)\n",
        "    x_train, y_train = samples\n",
        "    # H(x) 계산\n",
        "    prediction = model(x_train)\n",
        "    # cost 계산\n",
        "    # cost,localization_loss,confidence_loss,classification_loss,distance_regression_loss = criterion(prediction, y_train)\n",
        "    \n",
        "    cost = criterion(prediction, y_train)\n",
        "    \n",
        "    # # cost로 H(x) 계산\n",
        "    optimizer.zero_grad()\n",
        "    cost.mean().backward()\n",
        "    \n",
        "    optimizer.step()\n",
        "  \n",
        "    # print(cost)\n",
        "    print('Epoch {:4d}/{} Batch {}/{} total loss: {:.6f}'.format(\n",
        "        epoch, nb_epochs, batch_idx+1, len(dataloader),\n",
        "        cost.mean()\n",
        "        ))\n",
        "    total_loss+=cost.mean()\n",
        "  loss_lst.append(total_loss/lt)"
      ]
    },
    {
      "cell_type": "code",
      "execution_count": 27,
      "metadata": {
        "id": "CAMFSB8DritV"
      },
      "outputs": [],
      "source": [
        "torch.save(model.state_dict(), 'saved_model_5epoch')"
      ]
    },
    {
      "cell_type": "code",
      "source": [
        "print(loss_lst)"
      ],
      "metadata": {
        "colab": {
          "base_uri": "https://localhost:8080/"
        },
        "id": "l2PJfu1rQ2HK",
        "outputId": "2363ff2a-ff3b-4e3f-d83a-75dd3ede616d"
      },
      "execution_count": 28,
      "outputs": [
        {
          "output_type": "stream",
          "name": "stdout",
          "text": [
            "[tensor(16807.0547, device='cuda:0', grad_fn=<DivBackward0>), tensor(16727.4453, device='cuda:0', grad_fn=<DivBackward0>), tensor(16289.5713, device='cuda:0', grad_fn=<DivBackward0>), tensor(17123.2930, device='cuda:0', grad_fn=<DivBackward0>), tensor(16797.7363, device='cuda:0', grad_fn=<DivBackward0>), tensor(16450.7930, device='cuda:0', grad_fn=<DivBackward0>)]\n"
          ]
        }
      ]
    },
    {
      "cell_type": "code",
      "source": [],
      "metadata": {
        "id": "GJ2OVxpGR-3D"
      },
      "execution_count": 28,
      "outputs": []
    }
  ],
  "metadata": {
    "kernelspec": {
      "display_name": "Python 3.7.7 ('torch_env')",
      "language": "python",
      "name": "python3"
    },
    "language_info": {
      "codemirror_mode": {
        "name": "ipython",
        "version": 3
      },
      "file_extension": ".py",
      "mimetype": "text/x-python",
      "name": "python",
      "nbconvert_exporter": "python",
      "pygments_lexer": "ipython3",
      "version": "3.7.7"
    },
    "orig_nbformat": 4,
    "vscode": {
      "interpreter": {
        "hash": "c6a70fdd13816683185290439b396d538f500f56ba4ecc2320a0dd2f0d19ebb0"
      }
    },
    "colab": {
      "provenance": [],
      "include_colab_link": true
    },
    "gpuClass": "standard",
    "accelerator": "GPU"
  },
  "nbformat": 4,
  "nbformat_minor": 0
}